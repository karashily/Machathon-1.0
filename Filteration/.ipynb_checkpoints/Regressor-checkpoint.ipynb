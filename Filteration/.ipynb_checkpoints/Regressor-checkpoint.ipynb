{
 "cells": [
  {
   "cell_type": "code",
   "execution_count": 1,
   "metadata": {},
   "outputs": [],
   "source": [
    "import numpy as np\n",
    "import matplotlib.pyplot as plt\n",
    "import pandas as pd "
   ]
  },
  {
   "cell_type": "code",
   "execution_count": 2,
   "metadata": {},
   "outputs": [],
   "source": [
    "def getBatch(X, Y, batchSize):\n",
    "    setSize = X.shape[0]\n",
    "    xBatch = np.zeros((batchSize, X.shape[1]), dtype=np.float)\n",
    "    yBatch = np.zeros((batchSize), dtype=np.float)\n",
    "    randomNumbers = []\n",
    "    i = 0\n",
    "    while len(randomNumbers) < batchSize:\n",
    "        num = np.random.randint(0, setSize)\n",
    "        if num not in randomNumbers:\n",
    "            randomNumbers.append(num)\n",
    "            xBatch[i] = X[num]\n",
    "            yBatch[i] = Y[num]\n",
    "            i+=1\n",
    "    yBatch = np.resize(yBatch, (batchSize, 1))\n",
    "    return xBatch, yBatch"
   ]
  },
  {
   "cell_type": "code",
   "execution_count": 3,
   "metadata": {},
   "outputs": [],
   "source": [
    "def divideData(X, Y, trainPercent):\n",
    "    setSize = X.shape[0]\n",
    "    totalSize = X.shape[0]\n",
    "    trainSize = int(totalSize * trainPercent)\n",
    "    testSize = totalSize - trainSize\n",
    "    \n",
    "    xTrain = np.zeros((trainSize, X.shape[1]), dtype=np.float)\n",
    "    yTrain = np.zeros((trainSize), dtype=np.float)\n",
    "    xTest = np.zeros((testSize, X.shape[1]), dtype=np.float)\n",
    "    yTest = np.zeros((testSize), dtype=np.float)\n",
    "    \n",
    "    randomNumbers = []\n",
    "    i = 0\n",
    "    while len(randomNumbers) < trainSize:\n",
    "        num = np.random.randint(0, setSize)\n",
    "        if num not in randomNumbers:\n",
    "            randomNumbers.append(num)\n",
    "            xTrain[i] = X[num]\n",
    "            yTrain[i] = Y[num]\n",
    "            i += 1\n",
    "    \n",
    "    i = 0\n",
    "    while len(randomNumbers) < totalSize:\n",
    "        num = np.random.randint(0, setSize)\n",
    "        if num not in randomNumbers:\n",
    "            randomNumbers.append(num)\n",
    "            xTest[i] = X[num]\n",
    "            yTest[i] = Y[num]\n",
    "            i += 1\n",
    "\n",
    "    return xTrain, yTrain, xTest, yTest"
   ]
  },
  {
   "cell_type": "code",
   "execution_count": 4,
   "metadata": {},
   "outputs": [
    {
     "name": "stdout",
     "output_type": "stream",
     "text": [
      "(9324, 40)\n"
     ]
    },
    {
     "data": {
      "text/html": [
       "<div>\n",
       "<style scoped>\n",
       "    .dataframe tbody tr th:only-of-type {\n",
       "        vertical-align: middle;\n",
       "    }\n",
       "\n",
       "    .dataframe tbody tr th {\n",
       "        vertical-align: top;\n",
       "    }\n",
       "\n",
       "    .dataframe thead th {\n",
       "        text-align: right;\n",
       "    }\n",
       "</style>\n",
       "<table border=\"1\" class=\"dataframe\">\n",
       "  <thead>\n",
       "    <tr style=\"text-align: right;\">\n",
       "      <th></th>\n",
       "      <th>Unnamed: 0</th>\n",
       "      <th>WellID</th>\n",
       "      <th>FirstMonthOil</th>\n",
       "      <th>FirstMonthGas</th>\n",
       "      <th>FirstMonthRatioGasOil</th>\n",
       "      <th>FirstMonthWater</th>\n",
       "      <th>firstMonthPercentWater</th>\n",
       "      <th>FirstMonthDaysOn</th>\n",
       "      <th>SecondMonthOil</th>\n",
       "      <th>SecondMonthGas</th>\n",
       "      <th>...</th>\n",
       "      <th>FifthMonthPercentWater</th>\n",
       "      <th>FifthMonthDaysOn</th>\n",
       "      <th>SixthMonthOil</th>\n",
       "      <th>SixthMonthGas</th>\n",
       "      <th>SixthMonthRatioGasOil</th>\n",
       "      <th>SixthMonthWater</th>\n",
       "      <th>SixthMonthPercentWater</th>\n",
       "      <th>SixthMonthDaysOn</th>\n",
       "      <th>TotalOilInNext6Months</th>\n",
       "      <th>TotalGasInNext6Months</th>\n",
       "    </tr>\n",
       "  </thead>\n",
       "  <tbody>\n",
       "    <tr>\n",
       "      <th>0</th>\n",
       "      <td>3</td>\n",
       "      <td>5343</td>\n",
       "      <td>22672.0</td>\n",
       "      <td>3818.0</td>\n",
       "      <td>0.168402</td>\n",
       "      <td>14759.0</td>\n",
       "      <td>0.650979</td>\n",
       "      <td>30.0</td>\n",
       "      <td>12766.0</td>\n",
       "      <td>2308.0</td>\n",
       "      <td>...</td>\n",
       "      <td>0.623302</td>\n",
       "      <td>22.0</td>\n",
       "      <td>6516.0</td>\n",
       "      <td>479.0</td>\n",
       "      <td>0.073511</td>\n",
       "      <td>4075.0</td>\n",
       "      <td>0.625384</td>\n",
       "      <td>27.0</td>\n",
       "      <td>61152.0</td>\n",
       "      <td>5893.0</td>\n",
       "    </tr>\n",
       "    <tr>\n",
       "      <th>1</th>\n",
       "      <td>4</td>\n",
       "      <td>5663</td>\n",
       "      <td>7919.0</td>\n",
       "      <td>4328.0</td>\n",
       "      <td>0.546534</td>\n",
       "      <td>5278.0</td>\n",
       "      <td>0.666498</td>\n",
       "      <td>20.0</td>\n",
       "      <td>5082.0</td>\n",
       "      <td>2779.0</td>\n",
       "      <td>...</td>\n",
       "      <td>0.406234</td>\n",
       "      <td>24.0</td>\n",
       "      <td>2015.0</td>\n",
       "      <td>1195.0</td>\n",
       "      <td>0.593052</td>\n",
       "      <td>796.0</td>\n",
       "      <td>0.395037</td>\n",
       "      <td>23.0</td>\n",
       "      <td>13172.0</td>\n",
       "      <td>7529.0</td>\n",
       "    </tr>\n",
       "    <tr>\n",
       "      <th>2</th>\n",
       "      <td>8</td>\n",
       "      <td>7697</td>\n",
       "      <td>18653.0</td>\n",
       "      <td>0.0</td>\n",
       "      <td>0.000000</td>\n",
       "      <td>9585.0</td>\n",
       "      <td>0.513858</td>\n",
       "      <td>30.0</td>\n",
       "      <td>13372.0</td>\n",
       "      <td>23154.0</td>\n",
       "      <td>...</td>\n",
       "      <td>0.345268</td>\n",
       "      <td>30.0</td>\n",
       "      <td>9070.0</td>\n",
       "      <td>18020.0</td>\n",
       "      <td>1.986770</td>\n",
       "      <td>3102.0</td>\n",
       "      <td>0.342007</td>\n",
       "      <td>31.0</td>\n",
       "      <td>32858.0</td>\n",
       "      <td>57060.0</td>\n",
       "    </tr>\n",
       "    <tr>\n",
       "      <th>3</th>\n",
       "      <td>9</td>\n",
       "      <td>7394</td>\n",
       "      <td>19784.0</td>\n",
       "      <td>33837.0</td>\n",
       "      <td>1.710321</td>\n",
       "      <td>9433.0</td>\n",
       "      <td>0.476799</td>\n",
       "      <td>30.0</td>\n",
       "      <td>17166.0</td>\n",
       "      <td>27167.0</td>\n",
       "      <td>...</td>\n",
       "      <td>0.380787</td>\n",
       "      <td>31.0</td>\n",
       "      <td>6102.0</td>\n",
       "      <td>8675.0</td>\n",
       "      <td>1.421665</td>\n",
       "      <td>2145.0</td>\n",
       "      <td>0.351524</td>\n",
       "      <td>18.0</td>\n",
       "      <td>31784.0</td>\n",
       "      <td>45579.0</td>\n",
       "    </tr>\n",
       "    <tr>\n",
       "      <th>4</th>\n",
       "      <td>10</td>\n",
       "      <td>7318</td>\n",
       "      <td>16157.0</td>\n",
       "      <td>21461.0</td>\n",
       "      <td>1.328279</td>\n",
       "      <td>7529.0</td>\n",
       "      <td>0.465990</td>\n",
       "      <td>30.0</td>\n",
       "      <td>12263.0</td>\n",
       "      <td>14664.0</td>\n",
       "      <td>...</td>\n",
       "      <td>0.402126</td>\n",
       "      <td>14.0</td>\n",
       "      <td>0.0</td>\n",
       "      <td>2941.0</td>\n",
       "      <td>0.000000</td>\n",
       "      <td>0.0</td>\n",
       "      <td>0.000000</td>\n",
       "      <td>1.0</td>\n",
       "      <td>40715.0</td>\n",
       "      <td>59066.0</td>\n",
       "    </tr>\n",
       "  </tbody>\n",
       "</table>\n",
       "<p>5 rows × 40 columns</p>\n",
       "</div>"
      ],
      "text/plain": [
       "   Unnamed: 0  WellID  FirstMonthOil  FirstMonthGas  FirstMonthRatioGasOil  \\\n",
       "0           3    5343        22672.0         3818.0               0.168402   \n",
       "1           4    5663         7919.0         4328.0               0.546534   \n",
       "2           8    7697        18653.0            0.0               0.000000   \n",
       "3           9    7394        19784.0        33837.0               1.710321   \n",
       "4          10    7318        16157.0        21461.0               1.328279   \n",
       "\n",
       "   FirstMonthWater  firstMonthPercentWater  FirstMonthDaysOn  SecondMonthOil  \\\n",
       "0          14759.0                0.650979              30.0         12766.0   \n",
       "1           5278.0                0.666498              20.0          5082.0   \n",
       "2           9585.0                0.513858              30.0         13372.0   \n",
       "3           9433.0                0.476799              30.0         17166.0   \n",
       "4           7529.0                0.465990              30.0         12263.0   \n",
       "\n",
       "   SecondMonthGas  ...  FifthMonthPercentWater  FifthMonthDaysOn  \\\n",
       "0          2308.0  ...                0.623302              22.0   \n",
       "1          2779.0  ...                0.406234              24.0   \n",
       "2         23154.0  ...                0.345268              30.0   \n",
       "3         27167.0  ...                0.380787              31.0   \n",
       "4         14664.0  ...                0.402126              14.0   \n",
       "\n",
       "   SixthMonthOil  SixthMonthGas  SixthMonthRatioGasOil  SixthMonthWater  \\\n",
       "0         6516.0          479.0               0.073511           4075.0   \n",
       "1         2015.0         1195.0               0.593052            796.0   \n",
       "2         9070.0        18020.0               1.986770           3102.0   \n",
       "3         6102.0         8675.0               1.421665           2145.0   \n",
       "4            0.0         2941.0               0.000000              0.0   \n",
       "\n",
       "   SixthMonthPercentWater  SixthMonthDaysOn  TotalOilInNext6Months  \\\n",
       "0                0.625384              27.0                61152.0   \n",
       "1                0.395037              23.0                13172.0   \n",
       "2                0.342007              31.0                32858.0   \n",
       "3                0.351524              18.0                31784.0   \n",
       "4                0.000000               1.0                40715.0   \n",
       "\n",
       "   TotalGasInNext6Months  \n",
       "0                 5893.0  \n",
       "1                 7529.0  \n",
       "2                57060.0  \n",
       "3                45579.0  \n",
       "4                59066.0  \n",
       "\n",
       "[5 rows x 40 columns]"
      ]
     },
     "execution_count": 4,
     "metadata": {},
     "output_type": "execute_result"
    }
   ],
   "source": [
    "df = pd.read_csv('train.csv')\n",
    "print(df.shape)\n",
    "df.head()"
   ]
  },
  {
   "cell_type": "code",
   "execution_count": 5,
   "metadata": {},
   "outputs": [],
   "source": [
    "x = pd.concat([df.loc[:,\"FirstMonthOil\":\"SixthMonthDaysOn\"], df.loc[:,\"TotalGasInNext6Months\"]], axis = 1)"
   ]
  },
  {
   "cell_type": "code",
   "execution_count": 21,
   "metadata": {},
   "outputs": [
    {
     "data": {
      "text/plain": [
       "(9324, 37)"
      ]
     },
     "execution_count": 21,
     "metadata": {},
     "output_type": "execute_result"
    }
   ],
   "source": [
    "#normalize data\n",
    "from sklearn import preprocessing\n",
    "\n",
    "df_normalized = x.values #returns a numpy array\n",
    "min_max_scaler = preprocessing.MinMaxScaler()\n",
    "df_normalized = min_max_scaler.fit_transform(df_normalized)\n",
    "xNorm = pd.DataFrame(df_normalized)\n",
    "xNorm.shape"
   ]
  },
  {
   "cell_type": "code",
   "execution_count": 6,
   "metadata": {},
   "outputs": [],
   "source": [
    "y = df.loc[:,\"TotalOilInNext6Months\"]"
   ]
  },
  {
   "cell_type": "code",
   "execution_count": 7,
   "metadata": {},
   "outputs": [
    {
     "data": {
      "text/plain": [
       "0       61152.0\n",
       "1       13172.0\n",
       "2       32858.0\n",
       "3       31784.0\n",
       "4       40715.0\n",
       "         ...   \n",
       "9319    28370.0\n",
       "9320    18231.0\n",
       "9321     9154.0\n",
       "9322    26487.0\n",
       "9323    20723.0\n",
       "Name: TotalOilInNext6Months, Length: 9324, dtype: float64"
      ]
     },
     "execution_count": 7,
     "metadata": {},
     "output_type": "execute_result"
    }
   ],
   "source": [
    "y"
   ]
  },
  {
   "cell_type": "code",
   "execution_count": null,
   "metadata": {},
   "outputs": [],
   "source": []
  },
  {
   "cell_type": "code",
   "execution_count": 22,
   "metadata": {},
   "outputs": [],
   "source": [
    "xTrain, yTrain, xTest, yTest = divideData(xNorm.values, y.values, 0.75)"
   ]
  },
  {
   "cell_type": "code",
   "execution_count": 23,
   "metadata": {},
   "outputs": [
    {
     "name": "stdout",
     "output_type": "stream",
     "text": [
      "(6993, 37)\n",
      "(6993,)\n",
      "(2331, 37)\n",
      "(2331,)\n"
     ]
    }
   ],
   "source": [
    "print(xTrain.shape)\n",
    "print(yTrain.shape)\n",
    "print(xTest.shape)\n",
    "print(yTest.shape)"
   ]
  },
  {
   "cell_type": "code",
   "execution_count": 24,
   "metadata": {},
   "outputs": [],
   "source": [
    "xbatch, ybatch = getBatch(xTrain, yTrain, 512)"
   ]
  },
  {
   "cell_type": "code",
   "execution_count": 25,
   "metadata": {},
   "outputs": [
    {
     "data": {
      "text/plain": [
       "(512, 37)"
      ]
     },
     "execution_count": 25,
     "metadata": {},
     "output_type": "execute_result"
    }
   ],
   "source": [
    "xbatch.shape"
   ]
  },
  {
   "cell_type": "code",
   "execution_count": 13,
   "metadata": {},
   "outputs": [
    {
     "data": {
      "text/plain": [
       "<torch.autograd.grad_mode.set_grad_enabled at 0x299facb4e10>"
      ]
     },
     "execution_count": 13,
     "metadata": {},
     "output_type": "execute_result"
    }
   ],
   "source": [
    "import torch\n",
    "import torch.nn as nn\n",
    "import torch.nn.functional as F\n",
    "import torch.optim as optim\n",
    "\n",
    "import torchvision\n",
    "import torchvision.transforms as transforms\n",
    "\n",
    "torch.set_grad_enabled(True)"
   ]
  },
  {
   "cell_type": "code",
   "execution_count": 14,
   "metadata": {},
   "outputs": [
    {
     "name": "stdout",
     "output_type": "stream",
     "text": [
      "CUDA is available!  Training on GPU ...\n"
     ]
    }
   ],
   "source": [
    "# check if CUDA is available\n",
    "train_on_gpu = torch.cuda.is_available()\n",
    "\n",
    "if not train_on_gpu:\n",
    "    print('CUDA is not available.  Training on CPU ...')\n",
    "else:\n",
    "    print('CUDA is available!  Training on GPU ...')"
   ]
  },
  {
   "cell_type": "code",
   "execution_count": 16,
   "metadata": {},
   "outputs": [
    {
     "name": "stdout",
     "output_type": "stream",
     "text": [
      "Net(\n",
      "  (L1): Linear(in_features=37, out_features=128, bias=True)\n",
      "  (L2): Linear(in_features=128, out_features=128, bias=True)\n",
      "  (L3): Linear(in_features=128, out_features=1, bias=True)\n",
      "  (relu): LeakyReLU(negative_slope=0.01)\n",
      ")\n"
     ]
    }
   ],
   "source": [
    "# define the CNN architecture\n",
    "class Net(nn.Module):\n",
    "    def __init__(self):\n",
    "        super(Net, self).__init__()\n",
    "        self.L1 = nn.Linear(37, 128)\n",
    "#         self.bn1 = nn.BatchNorm1d(128)\n",
    "        self.L2 = nn.Linear(128, 128)\n",
    "#         self.bn2 = nn.BatchNorm1d(265)\n",
    "        self.L3 = nn.Linear(128, 1)\n",
    "#         self.bn3 = nn.BatchNorm1d(64)\n",
    "#         self.L4 = nn.Linear(64, 1)\n",
    "#         self.L5 = nn.Linear(32, 16)\n",
    "#         self.L6 = nn.Linear(16, 1)\n",
    "        self.relu = torch.nn.LeakyReLU()\n",
    "        \n",
    "    def forward(self, x):\n",
    "#         print(x)\n",
    "        # conv layer\n",
    "        x = self.L1(x)\n",
    "        x = self.relu(x)\n",
    "#         x = self.bn1(x)\n",
    "        # conv layer\n",
    "#         print(x)\n",
    "        x = self.L2(x)\n",
    "        x = self.relu(x)\n",
    "#         x = self.bn2(x)\n",
    "#         # conv layer\n",
    "# #         print(x)\n",
    "        x = self.L3(x)\n",
    "#         x = self.relu(x)\n",
    "#         x = self.bn3(x)\n",
    "#         # conv layer\n",
    "# #         print(x)\n",
    "#         x = self.L4(x)\n",
    "#         x = F.relu(x)\n",
    "#         x = self.L5(x)\n",
    "#         x = F.relu(x)\n",
    "#         x = self.L6(x)\n",
    "        \n",
    "#         x = torch.sigmoid(x)\n",
    "        return x\n",
    "\n",
    "# create a complete CNN\n",
    "model = Net()\n",
    "print(model)\n",
    "\n",
    "# move tensors to GPU if CUDA is available\n",
    "if train_on_gpu:\n",
    "    model.cuda()"
   ]
  },
  {
   "cell_type": "code",
   "execution_count": 17,
   "metadata": {},
   "outputs": [],
   "source": [
    "criterion = nn.L1Loss()\n",
    "optimizer = optim.SGD(model.parameters(), lr=0.01)"
   ]
  },
  {
   "cell_type": "code",
   "execution_count": 26,
   "metadata": {
    "scrolled": false
   },
   "outputs": [
    {
     "name": "stdout",
     "output_type": "stream",
     "text": [
      "epoch: 1/10 loss: nan\n",
      "epoch: 2/10 loss: nan\n",
      "epoch: 3/10 loss: nan\n",
      "epoch: 4/10 loss: nan\n",
      "epoch: 5/10 loss: nan\n",
      "epoch: 6/10 loss: nan\n",
      "epoch: 7/10 loss: nan\n",
      "epoch: 8/10 loss: nan\n",
      "epoch: 9/10 loss: nan\n",
      "epoch: 10/10 loss: nan\n"
     ]
    }
   ],
   "source": [
    "batch_size = 265\n",
    "set_size = xTrain.shape[0]\n",
    "\n",
    "iterations = int(np.ceil(set_size/batch_size))\n",
    "\n",
    "epoches = 10\n",
    "\n",
    "for j in range(epoches):\n",
    "    total_loss = 0\n",
    "    total_acc = 0\n",
    "    optimizer.zero_grad()\n",
    "    # torch.cuda.empty_cache() \n",
    "    for i in range(iterations):\n",
    "        xBatch, yBatch = getBatch(xTrain, yTrain, batch_size)\n",
    "        xBatch = torch.tensor(xBatch).float().cuda()\n",
    "        yBatch = torch.tensor(yBatch).float().cuda()\n",
    "\n",
    "        preds = model(xBatch)\n",
    "#         preds = torch.unsqueeze(torch.squeeze(preds), dim=1)\n",
    "#         preds = torch.squeeze(preds)\n",
    "        loss = criterion(preds, yBatch)\n",
    "#         print(preds)\n",
    "        optimizer.zero_grad()\n",
    "        loss.backward()\n",
    "        optimizer.step()\n",
    "#         print(\"epoch:\", j, \"\\titeration\", i, \"loss: \", loss.item())\n",
    "\n",
    "        total_loss += loss.item()\n",
    "#         print(\"epoch:\", f\"{j+1}/{epoches}\", \"iteration:\",i,\"loss:\", total_loss)\n",
    "\n",
    "#         total_acc += accuracy(x,y,preds,0.5)\n",
    "    total_loss /= iterations\n",
    "#     total_acc /= iterations\n",
    "    print(\"epoch:\", f\"{j+1}/{epoches}\", \"loss:\", total_loss)\n",
    "    "
   ]
  },
  {
   "cell_type": "code",
   "execution_count": 105,
   "metadata": {},
   "outputs": [
    {
     "name": "stdout",
     "output_type": "stream",
     "text": [
      "epoch: 1/10 loss: 18678.734375\n"
     ]
    }
   ],
   "source": [
    "batch_size = 265\n",
    "setSize = xTrain.shape[0]\n",
    "\n",
    "iterations = int(np.ceil(set_size/batch_size))\n",
    "\n",
    "epoches = 10\n",
    "\n",
    "# for j in range(epoches):\n",
    "total_loss = 0\n",
    "total_acc = 0\n",
    "optimizer.zero_grad()\n",
    "# torch.cuda.empty_cache() \n",
    "#     for i in range(iterations):\n",
    "xBatch, yBatch = getBatch(xTrain, yTrain, batch_size)\n",
    "xBatch = torch.tensor(xBatch).float().cuda()\n",
    "yBatch = torch.tensor(yBatch).float().cuda()\n",
    "\n",
    "preds = model(xBatch)\n",
    "#         preds = torch.unsqueeze(torch.squeeze(preds), dim=1)\n",
    "#         preds = torch.squeeze(preds)\n",
    "loss = criterion(preds, yBatch)\n",
    "#     print(preds)\n",
    "optimizer.zero_grad()\n",
    "loss.backward()\n",
    "optimizer.step()\n",
    "#         print(\"epoch:\", j, \"\\titeration\", i, \"loss: \", loss.item())\n",
    "\n",
    "total_loss += loss.item()\n",
    "#         total_acc += accuracy(x,y,preds,0.5)\n",
    "#     total_loss /= iterations\n",
    "#     total_acc /= iterations\n",
    "print(\"epoch:\", f\"{j+1}/{epoches}\",\"loss:\", total_loss)\n",
    "    "
   ]
  },
  {
   "cell_type": "code",
   "execution_count": 20,
   "metadata": {},
   "outputs": [
    {
     "data": {
      "text/plain": [
       "1451478.0"
      ]
     },
     "execution_count": 20,
     "metadata": {},
     "output_type": "execute_result"
    }
   ],
   "source": [
    "xTrain.max()"
   ]
  },
  {
   "cell_type": "code",
   "execution_count": null,
   "metadata": {},
   "outputs": [],
   "source": []
  }
 ],
 "metadata": {
  "kernelspec": {
   "display_name": "Python 3",
   "language": "python",
   "name": "python3"
  },
  "language_info": {
   "codemirror_mode": {
    "name": "ipython",
    "version": 3
   },
   "file_extension": ".py",
   "mimetype": "text/x-python",
   "name": "python",
   "nbconvert_exporter": "python",
   "pygments_lexer": "ipython3",
   "version": "3.7.0"
  }
 },
 "nbformat": 4,
 "nbformat_minor": 2
}
