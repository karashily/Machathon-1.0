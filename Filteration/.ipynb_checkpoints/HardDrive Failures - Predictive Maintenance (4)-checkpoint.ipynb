{
 "cells": [
  {
   "cell_type": "markdown",
   "metadata": {
    "_uuid": "d7a7d60048d51d748567fe62cfa9f5fcf0098f83",
    "collapsed": true
   },
   "source": [
    "# Filter data for Predictive maintenance = Time To Event Model\n",
    "* We'll filter for HDDs that failed in the given year (both for convenience and file size).\n",
    "* We will later use this data to create a regression model - time to failure. "
   ]
  },
  {
   "cell_type": "code",
   "execution_count": 1,
   "metadata": {
    "_cell_guid": "b1076dfc-b9ad-4769-8c92-a6c4dae69d19",
    "_uuid": "8f2839f25d086af736a60e9eeb907d3b93b6e0e5"
   },
   "outputs": [],
   "source": [
    "import numpy as np \n",
    "import pandas as pd \n",
    "from sklearn.preprocessing import OneHotEncoder\n",
    "import sklearn.metrics as metrics\n",
    "import matplotlib.pyplot as plt\n",
    "from sklearn.preprocessing import StandardScaler\n",
    "from sklearn.model_selection import train_test_split\n",
    "from sklearn.model_selection import GridSearchCV \n",
    "from sklearn.ensemble import RandomForestRegressor\n",
    "from sklearn.linear_model import ElasticNet\n",
    "from sklearn.pipeline import Pipeline\n",
    "from sklearn.feature_selection import SelectKBest\n",
    "from sklearn.feature_selection import SelectFromModel\n",
    "from sklearn.svm import LinearSVC\n",
    "from sklearn.feature_selection import chi2\n",
    "from sklearn.feature_selection import f_regression\n",
    "from sklearn.metrics import mean_absolute_error\n",
    "from sklearn.metrics import mean_squared_error\n",
    "from sklearn.metrics import r2_score\n",
    "from sklearn.model_selection import KFold\n",
    "import random\n",
    "from scipy import stats"
   ]
  },
  {
   "cell_type": "code",
   "execution_count": 2,
   "metadata": {
    "_cell_guid": "79c7e3d0-c299-4dcb-8224-4455121ee9b0",
    "_uuid": "d629ff2d2480ee46fbb7e2d37f6b5fab8052498a",
    "scrolled": true
   },
   "outputs": [
    {
     "name": "stdout",
     "output_type": "stream",
     "text": [
      "(3179295, 95)\n"
     ]
    },
    {
     "data": {
      "text/html": [
       "<div>\n",
       "<style scoped>\n",
       "    .dataframe tbody tr th:only-of-type {\n",
       "        vertical-align: middle;\n",
       "    }\n",
       "\n",
       "    .dataframe tbody tr th {\n",
       "        vertical-align: top;\n",
       "    }\n",
       "\n",
       "    .dataframe thead th {\n",
       "        text-align: right;\n",
       "    }\n",
       "</style>\n",
       "<table border=\"1\" class=\"dataframe\">\n",
       "  <thead>\n",
       "    <tr style=\"text-align: right;\">\n",
       "      <th></th>\n",
       "      <th>date</th>\n",
       "      <th>serial_number</th>\n",
       "      <th>model</th>\n",
       "      <th>capacity_bytes</th>\n",
       "      <th>failure</th>\n",
       "      <th>smart_1_normalized</th>\n",
       "      <th>smart_1_raw</th>\n",
       "      <th>smart_2_normalized</th>\n",
       "      <th>smart_2_raw</th>\n",
       "      <th>smart_3_normalized</th>\n",
       "      <th>...</th>\n",
       "      <th>smart_250_normalized</th>\n",
       "      <th>smart_250_raw</th>\n",
       "      <th>smart_251_normalized</th>\n",
       "      <th>smart_251_raw</th>\n",
       "      <th>smart_252_normalized</th>\n",
       "      <th>smart_252_raw</th>\n",
       "      <th>smart_254_normalized</th>\n",
       "      <th>smart_254_raw</th>\n",
       "      <th>smart_255_normalized</th>\n",
       "      <th>smart_255_raw</th>\n",
       "    </tr>\n",
       "  </thead>\n",
       "  <tbody>\n",
       "    <tr>\n",
       "      <th>0</th>\n",
       "      <td>2016-01-01</td>\n",
       "      <td>MJ0351YNG9Z0XA</td>\n",
       "      <td>Hitachi HDS5C3030ALA630</td>\n",
       "      <td>1.482490e-311</td>\n",
       "      <td>0</td>\n",
       "      <td>100</td>\n",
       "      <td>0</td>\n",
       "      <td>135.0</td>\n",
       "      <td>108.0</td>\n",
       "      <td>143</td>\n",
       "      <td>...</td>\n",
       "      <td>NaN</td>\n",
       "      <td>NaN</td>\n",
       "      <td>NaN</td>\n",
       "      <td>NaN</td>\n",
       "      <td>NaN</td>\n",
       "      <td>NaN</td>\n",
       "      <td>NaN</td>\n",
       "      <td>NaN</td>\n",
       "      <td>NaN</td>\n",
       "      <td>NaN</td>\n",
       "    </tr>\n",
       "    <tr>\n",
       "      <th>1</th>\n",
       "      <td>2016-01-01</td>\n",
       "      <td>Z305B2QN</td>\n",
       "      <td>ST4000DM000</td>\n",
       "      <td>1.976651e-311</td>\n",
       "      <td>0</td>\n",
       "      <td>113</td>\n",
       "      <td>54551400</td>\n",
       "      <td>NaN</td>\n",
       "      <td>NaN</td>\n",
       "      <td>96</td>\n",
       "      <td>...</td>\n",
       "      <td>NaN</td>\n",
       "      <td>NaN</td>\n",
       "      <td>NaN</td>\n",
       "      <td>NaN</td>\n",
       "      <td>NaN</td>\n",
       "      <td>NaN</td>\n",
       "      <td>NaN</td>\n",
       "      <td>NaN</td>\n",
       "      <td>NaN</td>\n",
       "      <td>NaN</td>\n",
       "    </tr>\n",
       "    <tr>\n",
       "      <th>2</th>\n",
       "      <td>2016-01-01</td>\n",
       "      <td>MJ0351YNG9Z7LA</td>\n",
       "      <td>Hitachi HDS5C3030ALA630</td>\n",
       "      <td>1.482490e-311</td>\n",
       "      <td>0</td>\n",
       "      <td>100</td>\n",
       "      <td>0</td>\n",
       "      <td>136.0</td>\n",
       "      <td>104.0</td>\n",
       "      <td>124</td>\n",
       "      <td>...</td>\n",
       "      <td>NaN</td>\n",
       "      <td>NaN</td>\n",
       "      <td>NaN</td>\n",
       "      <td>NaN</td>\n",
       "      <td>NaN</td>\n",
       "      <td>NaN</td>\n",
       "      <td>NaN</td>\n",
       "      <td>NaN</td>\n",
       "      <td>NaN</td>\n",
       "      <td>NaN</td>\n",
       "    </tr>\n",
       "    <tr>\n",
       "      <th>3</th>\n",
       "      <td>2016-01-01</td>\n",
       "      <td>MJ0351YNGABYAA</td>\n",
       "      <td>Hitachi HDS5C3030ALA630</td>\n",
       "      <td>1.482490e-311</td>\n",
       "      <td>0</td>\n",
       "      <td>100</td>\n",
       "      <td>0</td>\n",
       "      <td>136.0</td>\n",
       "      <td>104.0</td>\n",
       "      <td>137</td>\n",
       "      <td>...</td>\n",
       "      <td>NaN</td>\n",
       "      <td>NaN</td>\n",
       "      <td>NaN</td>\n",
       "      <td>NaN</td>\n",
       "      <td>NaN</td>\n",
       "      <td>NaN</td>\n",
       "      <td>NaN</td>\n",
       "      <td>NaN</td>\n",
       "      <td>NaN</td>\n",
       "      <td>NaN</td>\n",
       "    </tr>\n",
       "    <tr>\n",
       "      <th>4</th>\n",
       "      <td>2016-01-01</td>\n",
       "      <td>WD-WMC4N2899475</td>\n",
       "      <td>WDC WD30EFRX</td>\n",
       "      <td>1.482490e-311</td>\n",
       "      <td>0</td>\n",
       "      <td>200</td>\n",
       "      <td>0</td>\n",
       "      <td>NaN</td>\n",
       "      <td>NaN</td>\n",
       "      <td>175</td>\n",
       "      <td>...</td>\n",
       "      <td>NaN</td>\n",
       "      <td>NaN</td>\n",
       "      <td>NaN</td>\n",
       "      <td>NaN</td>\n",
       "      <td>NaN</td>\n",
       "      <td>NaN</td>\n",
       "      <td>NaN</td>\n",
       "      <td>NaN</td>\n",
       "      <td>NaN</td>\n",
       "      <td>NaN</td>\n",
       "    </tr>\n",
       "  </tbody>\n",
       "</table>\n",
       "<p>5 rows × 95 columns</p>\n",
       "</div>"
      ],
      "text/plain": [
       "         date    serial_number                    model  capacity_bytes  \\\n",
       "0  2016-01-01   MJ0351YNG9Z0XA  Hitachi HDS5C3030ALA630   1.482490e-311   \n",
       "1  2016-01-01         Z305B2QN              ST4000DM000   1.976651e-311   \n",
       "2  2016-01-01   MJ0351YNG9Z7LA  Hitachi HDS5C3030ALA630   1.482490e-311   \n",
       "3  2016-01-01   MJ0351YNGABYAA  Hitachi HDS5C3030ALA630   1.482490e-311   \n",
       "4  2016-01-01  WD-WMC4N2899475             WDC WD30EFRX   1.482490e-311   \n",
       "\n",
       "   failure  smart_1_normalized  smart_1_raw  smart_2_normalized  smart_2_raw  \\\n",
       "0        0                 100            0               135.0        108.0   \n",
       "1        0                 113     54551400                 NaN          NaN   \n",
       "2        0                 100            0               136.0        104.0   \n",
       "3        0                 100            0               136.0        104.0   \n",
       "4        0                 200            0                 NaN          NaN   \n",
       "\n",
       "   smart_3_normalized  ...  smart_250_normalized  smart_250_raw  \\\n",
       "0                 143  ...                   NaN            NaN   \n",
       "1                  96  ...                   NaN            NaN   \n",
       "2                 124  ...                   NaN            NaN   \n",
       "3                 137  ...                   NaN            NaN   \n",
       "4                 175  ...                   NaN            NaN   \n",
       "\n",
       "   smart_251_normalized  smart_251_raw  smart_252_normalized  smart_252_raw  \\\n",
       "0                   NaN            NaN                   NaN            NaN   \n",
       "1                   NaN            NaN                   NaN            NaN   \n",
       "2                   NaN            NaN                   NaN            NaN   \n",
       "3                   NaN            NaN                   NaN            NaN   \n",
       "4                   NaN            NaN                   NaN            NaN   \n",
       "\n",
       "   smart_254_normalized  smart_254_raw  smart_255_normalized  smart_255_raw  \n",
       "0                   NaN            NaN                   NaN            NaN  \n",
       "1                   NaN            NaN                   NaN            NaN  \n",
       "2                   NaN            NaN                   NaN            NaN  \n",
       "3                   NaN            NaN                   NaN            NaN  \n",
       "4                   NaN            NaN                   NaN            NaN  \n",
       "\n",
       "[5 rows x 95 columns]"
      ]
     },
     "execution_count": 2,
     "metadata": {},
     "output_type": "execute_result"
    }
   ],
   "source": [
    "df_hdds = pd.read_csv('harddrive.csv')\n",
    "print(df_hdds.shape)\n",
    "df_hdds.head()"
   ]
  },
  {
   "cell_type": "code",
   "execution_count": 3,
   "metadata": {
    "_uuid": "fda01be92ba79f9abb4aa2dbef0714177b90ba08"
   },
   "outputs": [],
   "source": [
    "#*Data_Cleaning*#\n",
    "\n",
    "df=df_hdds.copy()\n",
    "# drop null columns\n",
    "\n",
    "# drop constant columns\n",
    "#d2 = df.iloc[0].any()\n",
    "#df = df.drop(d2,axis=1)\n",
    "\n",
    "#drop raw data columns\n",
    "df = df.drop(df.filter(regex='raw').columns,axis=1)\n",
    "\n",
    "#turn the object date into date type\n",
    "df[\"date\"] = pd.to_datetime(df[\"date\"])\n"
   ]
  },
  {
   "cell_type": "code",
   "execution_count": 4,
   "metadata": {},
   "outputs": [],
   "source": [
    "\n",
    "df = df.loc[:, ~df.isnull().all()]"
   ]
  },
  {
   "cell_type": "code",
   "execution_count": 5,
   "metadata": {},
   "outputs": [
    {
     "data": {
      "text/plain": [
       "(3179295, 48)"
      ]
     },
     "execution_count": 5,
     "metadata": {},
     "output_type": "execute_result"
    }
   ],
   "source": [
    "df.shape"
   ]
  },
  {
   "cell_type": "code",
   "execution_count": 6,
   "metadata": {},
   "outputs": [],
   "source": [
    "# drop constant columns\n",
    "df = df.loc[:, (df != df.iloc[0]).any()] "
   ]
  },
  {
   "cell_type": "code",
   "execution_count": 7,
   "metadata": {},
   "outputs": [],
   "source": [
    "#filling null values\n",
    "for column in df:\n",
    "     if(df[column].isnull().any()):\n",
    "        df[column].fillna(df[column].mean(),inplace=True)"
   ]
  },
  {
   "cell_type": "code",
   "execution_count": 9,
   "metadata": {
    "_uuid": "8a3d8a0ef3ce46643695bdc04315a22d7ed3f03d"
   },
   "outputs": [],
   "source": [
    "failed_hdds = df.loc[df.failure==1][\"serial_number\"] #serial numbers\n",
    "df_failed = df.loc[df[\"serial_number\"].isin(failed_hdds)] #whole records\n",
    "\n",
    "df_not_failed_hdds=df.copy()\n",
    "cond = df_failed['serial_number'].isin(df_not_failed_hdds['serial_number']) == True\n",
    "df_not_failed_hdds.drop(df_failed[cond].index, inplace = True)\n"
   ]
  },
  {
   "cell_type": "code",
   "execution_count": 11,
   "metadata": {},
   "outputs": [],
   "source": [
    "df_not_failed_jan = df_not_failed_hdds.loc[df_not_failed_hdds['date'].dt.month==1][\"serial_number\"] #only the serial numbers\n",
    "df_not_failed_apr = df_not_failed_hdds.loc[df_not_failed_hdds['date'].dt.month==4][\"serial_number\"] "
   ]
  },
  {
   "cell_type": "code",
   "execution_count": 12,
   "metadata": {},
   "outputs": [],
   "source": [
    "df_jan = df_not_failed_hdds.loc[df_not_failed_hdds[\"serial_number\"].isin(df_not_failed_jan)] #whole rows\n",
    "df_apr = df_not_failed_hdds.loc[df_not_failed_hdds[\"serial_number\"].isin(df_not_failed_apr)]"
   ]
  },
  {
   "cell_type": "code",
   "execution_count": 13,
   "metadata": {
    "scrolled": true
   },
   "outputs": [],
   "source": [
    "df_failed_in_gap = df_jan.copy()\n",
    "cond2 = df_jan['serial_number'].isin(df_apr['serial_number']) == True\n",
    "df_failed_in_gap.drop(df_jan[cond2].index, inplace = True)"
   ]
  },
  {
   "cell_type": "code",
   "execution_count": 14,
   "metadata": {},
   "outputs": [],
   "source": [
    "df_healthy=df_not_failed_hdds.copy()\n",
    "cond3 = df_not_failed_hdds['serial_number'].isin(df_failed_in_gap['serial_number']) == True\n",
    "df_healthy.drop(df_not_failed_hdds[cond3].index, inplace = True)"
   ]
  },
  {
   "cell_type": "code",
   "execution_count": 15,
   "metadata": {
    "scrolled": true
   },
   "outputs": [
    {
     "name": "stdout",
     "output_type": "stream",
     "text": [
      "(13837, 48)\n",
      "(3159968, 48)\n"
     ]
    }
   ],
   "source": [
    "print (df_failed_in_gap.shape)\n",
    "print (df_healthy.shape)"
   ]
  },
  {
   "cell_type": "code",
   "execution_count": 16,
   "metadata": {
    "_uuid": "f2643d3cd833cd52d6f0e2d5cdad30fcab9bc76b",
    "scrolled": true
   },
   "outputs": [
    {
     "name": "stderr",
     "output_type": "stream",
     "text": [
      "C:\\Users\\HP\\Miniconda3\\lib\\site-packages\\pandas\\core\\generic.py:5191: FutureWarning: Attribute 'is_copy' is deprecated and will be removed in a future version.\n",
      "  object.__getattribute__(self, name)\n",
      "C:\\Users\\HP\\Miniconda3\\lib\\site-packages\\pandas\\core\\generic.py:5192: FutureWarning: Attribute 'is_copy' is deprecated and will be removed in a future version.\n",
      "  return object.__setattr__(self, name, value)\n"
     ]
    }
   ],
   "source": [
    "df_failed.is_copy = None\n",
    "df_failed_in_gap.is_copy = None\n",
    "df_healthy.is_copy = None\n",
    "\n",
    "df_failed[\"end_date\"] = df_failed.groupby(\"serial_number\")[\"date\"].transform(\"max\")\n",
    "df_failed[\"date_diff\"] = df_failed[\"end_date\"] - df_failed[\"date\"]\n",
    "df_failed[\"date_diff\"] = df_failed[\"date_diff\"].dt.days\n",
    "\n",
    "end_date =[]\n",
    "for i in range (df_failed_in_gap.shape[0]):\n",
    "    d =pd.Timestamp(\"2016-0\"+str(random.randint(2,3))+\"-\"+str(random.randint(1,29)))\n",
    "    end_date.append(d)\n",
    "    \n",
    "df_failed_in_gap[\"end_date\"]=end_date\n",
    "\n",
    "df_failed_in_gap[\"date_diff\"] = df_failed_in_gap[\"end_date\"] - df_failed_in_gap[\"date\"]\n",
    "df_failed_in_gap[\"date_diff\"] = df_failed_in_gap[\"date_diff\"].dt.days\n",
    "\n",
    "df_healthy[\"date_diff\"]=130"
   ]
  },
  {
   "cell_type": "code",
   "execution_count": 106,
   "metadata": {},
   "outputs": [],
   "source": [
    "df_new=df_failed.iloc[df_failed[\"date_diff\"].values==0]\n",
    "df_failed.drop(df_new[\"date_diff\"].index,inplace=True)"
   ]
  },
  {
   "cell_type": "code",
   "execution_count": 110,
   "metadata": {},
   "outputs": [
    {
     "name": "stdout",
     "output_type": "stream",
     "text": [
      "376         16\n",
      "1657        99\n",
      "1895       108\n",
      "2900        99\n",
      "3204         9\n",
      "          ... \n",
      "3019599      1\n",
      "3036033      1\n",
      "3041273      1\n",
      "3072374      1\n",
      "3074838      1\n",
      "Name: date_diff, Length: 5275, dtype: int64\n"
     ]
    }
   ],
   "source": [
    "print(df_failed[\"date_diff\"])"
   ]
  },
  {
   "cell_type": "code",
   "execution_count": 111,
   "metadata": {
    "scrolled": true
   },
   "outputs": [
    {
     "name": "stderr",
     "output_type": "stream",
     "text": [
      "C:\\Users\\HP\\Miniconda3\\lib\\site-packages\\ipykernel_launcher.py:2: FutureWarning: Sorting because non-concatenation axis is not aligned. A future version\n",
      "of pandas will change to not sort by default.\n",
      "\n",
      "To accept the future behavior, pass 'sort=False'.\n",
      "\n",
      "To retain the current behavior and silence the warning, pass 'sort=True'.\n",
      "\n",
      "  \n"
     ]
    }
   ],
   "source": [
    "frames=[df_failed,df_failed_in_gap,df_healthy]\n",
    "df_train=pd.concat(frames).drop_duplicates().reset_index(drop=True)"
   ]
  },
  {
   "cell_type": "code",
   "execution_count": 112,
   "metadata": {},
   "outputs": [
    {
     "data": {
      "text/html": [
       "<div>\n",
       "<style scoped>\n",
       "    .dataframe tbody tr th:only-of-type {\n",
       "        vertical-align: middle;\n",
       "    }\n",
       "\n",
       "    .dataframe tbody tr th {\n",
       "        vertical-align: top;\n",
       "    }\n",
       "\n",
       "    .dataframe thead th {\n",
       "        text-align: right;\n",
       "    }\n",
       "</style>\n",
       "<table border=\"1\" class=\"dataframe\">\n",
       "  <thead>\n",
       "    <tr style=\"text-align: right;\">\n",
       "      <th></th>\n",
       "      <th>capacity_bytes</th>\n",
       "      <th>date</th>\n",
       "      <th>date_diff</th>\n",
       "      <th>end_date</th>\n",
       "      <th>failure</th>\n",
       "      <th>model</th>\n",
       "      <th>serial_number</th>\n",
       "      <th>smart_10_normalized</th>\n",
       "      <th>smart_11_normalized</th>\n",
       "      <th>smart_12_normalized</th>\n",
       "      <th>...</th>\n",
       "      <th>smart_251_normalized</th>\n",
       "      <th>smart_252_normalized</th>\n",
       "      <th>smart_254_normalized</th>\n",
       "      <th>smart_2_normalized</th>\n",
       "      <th>smart_3_normalized</th>\n",
       "      <th>smart_4_normalized</th>\n",
       "      <th>smart_5_normalized</th>\n",
       "      <th>smart_7_normalized</th>\n",
       "      <th>smart_8_normalized</th>\n",
       "      <th>smart_9_normalized</th>\n",
       "    </tr>\n",
       "  </thead>\n",
       "  <tbody>\n",
       "    <tr>\n",
       "      <th>0</th>\n",
       "      <td>1.976651e-311</td>\n",
       "      <td>2016-01-01</td>\n",
       "      <td>16</td>\n",
       "      <td>2016-01-17</td>\n",
       "      <td>0</td>\n",
       "      <td>ST4000DM000</td>\n",
       "      <td>Z300ZST1</td>\n",
       "      <td>100</td>\n",
       "      <td>101.302103</td>\n",
       "      <td>100</td>\n",
       "      <td>...</td>\n",
       "      <td>6.412698</td>\n",
       "      <td>19.822222</td>\n",
       "      <td>116.131065</td>\n",
       "      <td>128.765198</td>\n",
       "      <td>91</td>\n",
       "      <td>100</td>\n",
       "      <td>100</td>\n",
       "      <td>84</td>\n",
       "      <td>115.948512</td>\n",
       "      <td>81</td>\n",
       "    </tr>\n",
       "    <tr>\n",
       "      <th>1</th>\n",
       "      <td>7.907120e-313</td>\n",
       "      <td>2016-01-01</td>\n",
       "      <td>99</td>\n",
       "      <td>2016-04-09</td>\n",
       "      <td>0</td>\n",
       "      <td>ST3160318AS</td>\n",
       "      <td>9VY8TCAV</td>\n",
       "      <td>100</td>\n",
       "      <td>101.302103</td>\n",
       "      <td>100</td>\n",
       "      <td>...</td>\n",
       "      <td>6.412698</td>\n",
       "      <td>19.822222</td>\n",
       "      <td>116.131065</td>\n",
       "      <td>128.765198</td>\n",
       "      <td>97</td>\n",
       "      <td>100</td>\n",
       "      <td>100</td>\n",
       "      <td>87</td>\n",
       "      <td>115.948512</td>\n",
       "      <td>50</td>\n",
       "    </tr>\n",
       "    <tr>\n",
       "      <th>2</th>\n",
       "      <td>1.976651e-311</td>\n",
       "      <td>2016-01-01</td>\n",
       "      <td>108</td>\n",
       "      <td>2016-04-18</td>\n",
       "      <td>0</td>\n",
       "      <td>ST4000DM000</td>\n",
       "      <td>W300BG0H</td>\n",
       "      <td>100</td>\n",
       "      <td>101.302103</td>\n",
       "      <td>100</td>\n",
       "      <td>...</td>\n",
       "      <td>6.412698</td>\n",
       "      <td>19.822222</td>\n",
       "      <td>116.131065</td>\n",
       "      <td>128.765198</td>\n",
       "      <td>91</td>\n",
       "      <td>100</td>\n",
       "      <td>100</td>\n",
       "      <td>87</td>\n",
       "      <td>115.948512</td>\n",
       "      <td>77</td>\n",
       "    </tr>\n",
       "    <tr>\n",
       "      <th>3</th>\n",
       "      <td>1.976651e-311</td>\n",
       "      <td>2016-01-01</td>\n",
       "      <td>99</td>\n",
       "      <td>2016-04-09</td>\n",
       "      <td>0</td>\n",
       "      <td>ST4000DM000</td>\n",
       "      <td>W300J6FX</td>\n",
       "      <td>100</td>\n",
       "      <td>101.302103</td>\n",
       "      <td>100</td>\n",
       "      <td>...</td>\n",
       "      <td>6.412698</td>\n",
       "      <td>19.822222</td>\n",
       "      <td>116.131065</td>\n",
       "      <td>128.765198</td>\n",
       "      <td>92</td>\n",
       "      <td>100</td>\n",
       "      <td>100</td>\n",
       "      <td>87</td>\n",
       "      <td>115.948512</td>\n",
       "      <td>77</td>\n",
       "    </tr>\n",
       "    <tr>\n",
       "      <th>4</th>\n",
       "      <td>1.976651e-311</td>\n",
       "      <td>2016-01-01</td>\n",
       "      <td>9</td>\n",
       "      <td>2016-01-10</td>\n",
       "      <td>0</td>\n",
       "      <td>ST4000DM000</td>\n",
       "      <td>Z3014A4S</td>\n",
       "      <td>100</td>\n",
       "      <td>101.302103</td>\n",
       "      <td>100</td>\n",
       "      <td>...</td>\n",
       "      <td>6.412698</td>\n",
       "      <td>19.822222</td>\n",
       "      <td>116.131065</td>\n",
       "      <td>128.765198</td>\n",
       "      <td>91</td>\n",
       "      <td>100</td>\n",
       "      <td>100</td>\n",
       "      <td>84</td>\n",
       "      <td>115.948512</td>\n",
       "      <td>81</td>\n",
       "    </tr>\n",
       "  </tbody>\n",
       "</table>\n",
       "<p>5 rows × 50 columns</p>\n",
       "</div>"
      ],
      "text/plain": [
       "   capacity_bytes       date  date_diff   end_date  failure        model  \\\n",
       "0   1.976651e-311 2016-01-01         16 2016-01-17        0  ST4000DM000   \n",
       "1   7.907120e-313 2016-01-01         99 2016-04-09        0  ST3160318AS   \n",
       "2   1.976651e-311 2016-01-01        108 2016-04-18        0  ST4000DM000   \n",
       "3   1.976651e-311 2016-01-01         99 2016-04-09        0  ST4000DM000   \n",
       "4   1.976651e-311 2016-01-01          9 2016-01-10        0  ST4000DM000   \n",
       "\n",
       "  serial_number  smart_10_normalized  smart_11_normalized  \\\n",
       "0      Z300ZST1                  100           101.302103   \n",
       "1      9VY8TCAV                  100           101.302103   \n",
       "2      W300BG0H                  100           101.302103   \n",
       "3      W300J6FX                  100           101.302103   \n",
       "4      Z3014A4S                  100           101.302103   \n",
       "\n",
       "   smart_12_normalized  ...  smart_251_normalized  smart_252_normalized  \\\n",
       "0                  100  ...              6.412698             19.822222   \n",
       "1                  100  ...              6.412698             19.822222   \n",
       "2                  100  ...              6.412698             19.822222   \n",
       "3                  100  ...              6.412698             19.822222   \n",
       "4                  100  ...              6.412698             19.822222   \n",
       "\n",
       "   smart_254_normalized  smart_2_normalized  smart_3_normalized  \\\n",
       "0            116.131065          128.765198                  91   \n",
       "1            116.131065          128.765198                  97   \n",
       "2            116.131065          128.765198                  91   \n",
       "3            116.131065          128.765198                  92   \n",
       "4            116.131065          128.765198                  91   \n",
       "\n",
       "   smart_4_normalized  smart_5_normalized  smart_7_normalized  \\\n",
       "0                 100                 100                  84   \n",
       "1                 100                 100                  87   \n",
       "2                 100                 100                  87   \n",
       "3                 100                 100                  87   \n",
       "4                 100                 100                  84   \n",
       "\n",
       "   smart_8_normalized  smart_9_normalized  \n",
       "0          115.948512                  81  \n",
       "1          115.948512                  50  \n",
       "2          115.948512                  77  \n",
       "3          115.948512                  77  \n",
       "4          115.948512                  81  \n",
       "\n",
       "[5 rows x 50 columns]"
      ]
     },
     "execution_count": 112,
     "metadata": {},
     "output_type": "execute_result"
    }
   ],
   "source": [
    "df_train.head()"
   ]
  },
  {
   "cell_type": "code",
   "execution_count": 113,
   "metadata": {
    "scrolled": true
   },
   "outputs": [
    {
     "name": "stdout",
     "output_type": "stream",
     "text": [
      "(3059225, 50)\n"
     ]
    }
   ],
   "source": [
    "print(df_train.shape)"
   ]
  },
  {
   "cell_type": "code",
   "execution_count": 114,
   "metadata": {
    "scrolled": false
   },
   "outputs": [
    {
     "name": "stdout",
     "output_type": "stream",
     "text": [
      "(3059225, 50)\n",
      "(19327, 50)\n"
     ]
    }
   ],
   "source": [
    "df_sample = df_train.sample(19327, random_state=1)\n",
    "print (df_train.shape)\n",
    "print (df_sample.shape)"
   ]
  },
  {
   "cell_type": "code",
   "execution_count": 115,
   "metadata": {},
   "outputs": [],
   "source": [
    "#Handling cateogrical variables \n",
    "Target=df_sample[\"date_diff\"]\n",
    "df_sample=df_sample.drop([\"end_date\",\"serial_number\",\"date\",\"date_diff\",\"failure\",\"capacity_bytes\",\"model\"],axis=1)\n",
    "#df_sample = pd.get_dummies(df_sample)\n",
    "\n"
   ]
  },
  {
   "cell_type": "code",
   "execution_count": 116,
   "metadata": {
    "scrolled": true
   },
   "outputs": [
    {
     "name": "stdout",
     "output_type": "stream",
     "text": [
      "False\n"
     ]
    },
    {
     "data": {
      "text/html": [
       "<div>\n",
       "<style scoped>\n",
       "    .dataframe tbody tr th:only-of-type {\n",
       "        vertical-align: middle;\n",
       "    }\n",
       "\n",
       "    .dataframe tbody tr th {\n",
       "        vertical-align: top;\n",
       "    }\n",
       "\n",
       "    .dataframe thead th {\n",
       "        text-align: right;\n",
       "    }\n",
       "</style>\n",
       "<table border=\"1\" class=\"dataframe\">\n",
       "  <thead>\n",
       "    <tr style=\"text-align: right;\">\n",
       "      <th></th>\n",
       "      <th>smart_10_normalized</th>\n",
       "      <th>smart_11_normalized</th>\n",
       "      <th>smart_12_normalized</th>\n",
       "      <th>smart_13_normalized</th>\n",
       "      <th>smart_183_normalized</th>\n",
       "      <th>smart_184_normalized</th>\n",
       "      <th>smart_187_normalized</th>\n",
       "      <th>smart_188_normalized</th>\n",
       "      <th>smart_189_normalized</th>\n",
       "      <th>smart_190_normalized</th>\n",
       "      <th>...</th>\n",
       "      <th>smart_251_normalized</th>\n",
       "      <th>smart_252_normalized</th>\n",
       "      <th>smart_254_normalized</th>\n",
       "      <th>smart_2_normalized</th>\n",
       "      <th>smart_3_normalized</th>\n",
       "      <th>smart_4_normalized</th>\n",
       "      <th>smart_5_normalized</th>\n",
       "      <th>smart_7_normalized</th>\n",
       "      <th>smart_8_normalized</th>\n",
       "      <th>smart_9_normalized</th>\n",
       "    </tr>\n",
       "  </thead>\n",
       "  <tbody>\n",
       "    <tr>\n",
       "      <th>2368762</th>\n",
       "      <td>100</td>\n",
       "      <td>101.302103</td>\n",
       "      <td>100</td>\n",
       "      <td>89.166667</td>\n",
       "      <td>100.000000</td>\n",
       "      <td>100.000000</td>\n",
       "      <td>100.000000</td>\n",
       "      <td>100.000000</td>\n",
       "      <td>100.000000</td>\n",
       "      <td>79.000000</td>\n",
       "      <td>...</td>\n",
       "      <td>6.412698</td>\n",
       "      <td>19.822222</td>\n",
       "      <td>116.131065</td>\n",
       "      <td>128.765198</td>\n",
       "      <td>92</td>\n",
       "      <td>100</td>\n",
       "      <td>100</td>\n",
       "      <td>87</td>\n",
       "      <td>115.948512</td>\n",
       "      <td>88</td>\n",
       "    </tr>\n",
       "    <tr>\n",
       "      <th>4895</th>\n",
       "      <td>100</td>\n",
       "      <td>101.302103</td>\n",
       "      <td>100</td>\n",
       "      <td>89.166667</td>\n",
       "      <td>100.000000</td>\n",
       "      <td>100.000000</td>\n",
       "      <td>100.000000</td>\n",
       "      <td>100.000000</td>\n",
       "      <td>98.000000</td>\n",
       "      <td>78.000000</td>\n",
       "      <td>...</td>\n",
       "      <td>6.412698</td>\n",
       "      <td>19.822222</td>\n",
       "      <td>116.131065</td>\n",
       "      <td>128.765198</td>\n",
       "      <td>92</td>\n",
       "      <td>100</td>\n",
       "      <td>100</td>\n",
       "      <td>88</td>\n",
       "      <td>115.948512</td>\n",
       "      <td>73</td>\n",
       "    </tr>\n",
       "    <tr>\n",
       "      <th>314242</th>\n",
       "      <td>100</td>\n",
       "      <td>100.000000</td>\n",
       "      <td>100</td>\n",
       "      <td>89.166667</td>\n",
       "      <td>99.704537</td>\n",
       "      <td>99.995107</td>\n",
       "      <td>99.965845</td>\n",
       "      <td>99.999995</td>\n",
       "      <td>97.531997</td>\n",
       "      <td>72.842366</td>\n",
       "      <td>...</td>\n",
       "      <td>6.412698</td>\n",
       "      <td>19.822222</td>\n",
       "      <td>116.131065</td>\n",
       "      <td>128.765198</td>\n",
       "      <td>100</td>\n",
       "      <td>100</td>\n",
       "      <td>200</td>\n",
       "      <td>100</td>\n",
       "      <td>115.948512</td>\n",
       "      <td>87</td>\n",
       "    </tr>\n",
       "    <tr>\n",
       "      <th>267610</th>\n",
       "      <td>100</td>\n",
       "      <td>101.302103</td>\n",
       "      <td>100</td>\n",
       "      <td>89.166667</td>\n",
       "      <td>99.704537</td>\n",
       "      <td>99.995107</td>\n",
       "      <td>99.965845</td>\n",
       "      <td>99.999995</td>\n",
       "      <td>97.531997</td>\n",
       "      <td>72.842366</td>\n",
       "      <td>...</td>\n",
       "      <td>6.412698</td>\n",
       "      <td>19.822222</td>\n",
       "      <td>116.131065</td>\n",
       "      <td>134.000000</td>\n",
       "      <td>100</td>\n",
       "      <td>100</td>\n",
       "      <td>100</td>\n",
       "      <td>100</td>\n",
       "      <td>115.000000</td>\n",
       "      <td>99</td>\n",
       "    </tr>\n",
       "    <tr>\n",
       "      <th>105615</th>\n",
       "      <td>100</td>\n",
       "      <td>101.302103</td>\n",
       "      <td>100</td>\n",
       "      <td>89.166667</td>\n",
       "      <td>100.000000</td>\n",
       "      <td>100.000000</td>\n",
       "      <td>100.000000</td>\n",
       "      <td>100.000000</td>\n",
       "      <td>100.000000</td>\n",
       "      <td>76.000000</td>\n",
       "      <td>...</td>\n",
       "      <td>6.412698</td>\n",
       "      <td>19.822222</td>\n",
       "      <td>116.131065</td>\n",
       "      <td>128.765198</td>\n",
       "      <td>100</td>\n",
       "      <td>100</td>\n",
       "      <td>100</td>\n",
       "      <td>82</td>\n",
       "      <td>115.948512</td>\n",
       "      <td>96</td>\n",
       "    </tr>\n",
       "  </tbody>\n",
       "</table>\n",
       "<p>5 rows × 43 columns</p>\n",
       "</div>"
      ],
      "text/plain": [
       "         smart_10_normalized  smart_11_normalized  smart_12_normalized  \\\n",
       "2368762                  100           101.302103                  100   \n",
       "4895                     100           101.302103                  100   \n",
       "314242                   100           100.000000                  100   \n",
       "267610                   100           101.302103                  100   \n",
       "105615                   100           101.302103                  100   \n",
       "\n",
       "         smart_13_normalized  smart_183_normalized  smart_184_normalized  \\\n",
       "2368762            89.166667            100.000000            100.000000   \n",
       "4895               89.166667            100.000000            100.000000   \n",
       "314242             89.166667             99.704537             99.995107   \n",
       "267610             89.166667             99.704537             99.995107   \n",
       "105615             89.166667            100.000000            100.000000   \n",
       "\n",
       "         smart_187_normalized  smart_188_normalized  smart_189_normalized  \\\n",
       "2368762            100.000000            100.000000            100.000000   \n",
       "4895               100.000000            100.000000             98.000000   \n",
       "314242              99.965845             99.999995             97.531997   \n",
       "267610              99.965845             99.999995             97.531997   \n",
       "105615             100.000000            100.000000            100.000000   \n",
       "\n",
       "         smart_190_normalized  ...  smart_251_normalized  \\\n",
       "2368762             79.000000  ...              6.412698   \n",
       "4895                78.000000  ...              6.412698   \n",
       "314242              72.842366  ...              6.412698   \n",
       "267610              72.842366  ...              6.412698   \n",
       "105615              76.000000  ...              6.412698   \n",
       "\n",
       "         smart_252_normalized  smart_254_normalized  smart_2_normalized  \\\n",
       "2368762             19.822222            116.131065          128.765198   \n",
       "4895                19.822222            116.131065          128.765198   \n",
       "314242              19.822222            116.131065          128.765198   \n",
       "267610              19.822222            116.131065          134.000000   \n",
       "105615              19.822222            116.131065          128.765198   \n",
       "\n",
       "         smart_3_normalized  smart_4_normalized  smart_5_normalized  \\\n",
       "2368762                  92                 100                 100   \n",
       "4895                     92                 100                 100   \n",
       "314242                  100                 100                 200   \n",
       "267610                  100                 100                 100   \n",
       "105615                  100                 100                 100   \n",
       "\n",
       "         smart_7_normalized  smart_8_normalized  smart_9_normalized  \n",
       "2368762                  87          115.948512                  88  \n",
       "4895                     88          115.948512                  73  \n",
       "314242                  100          115.948512                  87  \n",
       "267610                  100          115.000000                  99  \n",
       "105615                   82          115.948512                  96  \n",
       "\n",
       "[5 rows x 43 columns]"
      ]
     },
     "execution_count": 116,
     "metadata": {},
     "output_type": "execute_result"
    }
   ],
   "source": [
    "print(df_sample.isnull().sum().any())\n",
    "df_sample.head()"
   ]
  },
  {
   "cell_type": "code",
   "execution_count": 117,
   "metadata": {},
   "outputs": [],
   "source": [
    "#remove outliers\n",
    "for column in df_sample:\n",
    "    q = df_sample[column].quantile(0.9)\n",
    "    df_sample[df_sample[column] < q]"
   ]
  },
  {
   "cell_type": "code",
   "execution_count": 49,
   "metadata": {},
   "outputs": [],
   "source": [
    "from sklearn import preprocessing\n",
    "x=df_sample.values\n",
    "scaler = preprocessing.MinMaxScaler()\n",
    "scaled_data=scaler.fit_transform(x)\n",
    "df_standarded=pd.DataFrame(scaled_data)"
   ]
  },
  {
   "cell_type": "code",
   "execution_count": 118,
   "metadata": {},
   "outputs": [],
   "source": [
    "x=df_sample.values\n",
    "scaler = StandardScaler()\n",
    "scaled_data=scaler.fit_transform(x)\n",
    "df_standarded=pd.DataFrame(scaled_data)"
   ]
  },
  {
   "cell_type": "code",
   "execution_count": 119,
   "metadata": {
    "scrolled": true
   },
   "outputs": [
    {
     "name": "stdout",
     "output_type": "stream",
     "text": [
      "(19327, 43)\n"
     ]
    }
   ],
   "source": [
    "\n",
    "print(df_standarded.shape)"
   ]
  },
  {
   "cell_type": "code",
   "execution_count": 120,
   "metadata": {},
   "outputs": [
    {
     "name": "stdout",
     "output_type": "stream",
     "text": [
      "False\n",
      "False\n"
     ]
    }
   ],
   "source": [
    "print(df_standarded.isnull().sum().any())\n",
    "print(Target.isnull().sum().any())"
   ]
  },
  {
   "cell_type": "code",
   "execution_count": 121,
   "metadata": {
    "scrolled": true
   },
   "outputs": [],
   "source": [
    "X_train, X_test, y_train, y_test = train_test_split(df_sample, Target, test_size=0.33, random_state=42)"
   ]
  },
  {
   "cell_type": "code",
   "execution_count": 128,
   "metadata": {},
   "outputs": [
    {
     "ename": "ImportError",
     "evalue": "cannot import name 'KNNeighborsClassifer' from 'sklearn.neighbors' (C:\\Users\\HP\\Miniconda3\\lib\\site-packages\\sklearn\\neighbors\\__init__.py)",
     "output_type": "error",
     "traceback": [
      "\u001b[1;31m---------------------------------------------------------------------------\u001b[0m",
      "\u001b[1;31mImportError\u001b[0m                               Traceback (most recent call last)",
      "\u001b[1;32m<ipython-input-128-a155dd39a987>\u001b[0m in \u001b[0;36m<module>\u001b[1;34m\u001b[0m\n\u001b[1;32m----> 1\u001b[1;33m \u001b[1;32mfrom\u001b[0m \u001b[0msklearn\u001b[0m\u001b[1;33m.\u001b[0m\u001b[0mneighbors\u001b[0m \u001b[1;32mimport\u001b[0m \u001b[0mKNNeighborsClassifer\u001b[0m\u001b[1;33m\u001b[0m\u001b[1;33m\u001b[0m\u001b[0m\n\u001b[0m\u001b[0;32m      2\u001b[0m \u001b[1;33m\u001b[0m\u001b[0m\n\u001b[0;32m      3\u001b[0m clf3=Pipeline([\n\u001b[0;32m      4\u001b[0m    \u001b[1;33m(\u001b[0m\u001b[1;34m'feature_selc'\u001b[0m\u001b[1;33m,\u001b[0m \u001b[0mSelectFromModel\u001b[0m\u001b[1;33m(\u001b[0m\u001b[0mExtraTreesRegressor\u001b[0m\u001b[1;33m(\u001b[0m\u001b[0mmax_depth\u001b[0m\u001b[1;33m=\u001b[0m\u001b[1;36m4\u001b[0m\u001b[1;33m,\u001b[0m\u001b[0mmin_samples_split\u001b[0m\u001b[1;33m=\u001b[0m\u001b[1;36m4\u001b[0m\u001b[1;33m)\u001b[0m\u001b[1;33m)\u001b[0m\u001b[1;33m)\u001b[0m\u001b[1;33m,\u001b[0m\u001b[1;33m\u001b[0m\u001b[1;33m\u001b[0m\u001b[0m\n\u001b[0;32m      5\u001b[0m   \u001b[1;33m(\u001b[0m\u001b[1;34m'classification'\u001b[0m\u001b[1;33m,\u001b[0m \u001b[0mRKNeighborsClassifier\u001b[0m\u001b[1;33m(\u001b[0m\u001b[0mn_neighbors\u001b[0m\u001b[1;33m=\u001b[0m\u001b[1;36m3\u001b[0m\u001b[1;33m)\u001b[0m\u001b[1;33m)\u001b[0m\u001b[1;33m\u001b[0m\u001b[1;33m\u001b[0m\u001b[0m\n",
      "\u001b[1;31mImportError\u001b[0m: cannot import name 'KNNeighborsClassifer' from 'sklearn.neighbors' (C:\\Users\\HP\\Miniconda3\\lib\\site-packages\\sklearn\\neighbors\\__init__.py)"
     ]
    }
   ],
   "source": [
    "from sklearn.neighbors import KNNeighborsClassifer\n",
    "\n",
    "clf3=Pipeline([\n",
    "   ('feature_selc', SelectFromModel(ExtraTreesRegressor(max_depth=4,min_samples_split=4))),\n",
    "  ('classification', RKNeighborsClassifier(n_neighbors=3))\n",
    " ])\n",
    "\n",
    "clf3.fit(X_train,y_train)\n"
   ]
  },
  {
   "cell_type": "code",
   "execution_count": 127,
   "metadata": {},
   "outputs": [
    {
     "name": "stderr",
     "output_type": "stream",
     "text": [
      "C:\\Users\\HP\\Miniconda3\\lib\\site-packages\\sklearn\\ensemble\\forest.py:245: FutureWarning: The default value of n_estimators will change from 10 in version 0.20 to 100 in 0.22.\n",
      "  \"10 in version 0.20 to 100 in 0.22.\", FutureWarning)\n",
      "C:\\Users\\HP\\Miniconda3\\lib\\site-packages\\sklearn\\ensemble\\forest.py:245: FutureWarning: The default value of n_estimators will change from 10 in version 0.20 to 100 in 0.22.\n",
      "  \"10 in version 0.20 to 100 in 0.22.\", FutureWarning)\n"
     ]
    },
    {
     "data": {
      "text/plain": [
       "Pipeline(memory=None,\n",
       "         steps=[('feature_selc',\n",
       "                 SelectFromModel(estimator=ExtraTreesRegressor(bootstrap=False,\n",
       "                                                               criterion='mse',\n",
       "                                                               max_depth=4,\n",
       "                                                               max_features='auto',\n",
       "                                                               max_leaf_nodes=None,\n",
       "                                                               min_impurity_decrease=0.0,\n",
       "                                                               min_impurity_split=None,\n",
       "                                                               min_samples_leaf=1,\n",
       "                                                               min_samples_split=4,\n",
       "                                                               min_weight_fraction_leaf=0.0,\n",
       "                                                               n_estimators='warn',\n",
       "                                                               n_jobs=None,\n",
       "                                                               oob_score=False,\n",
       "                                                               random_sta...\n",
       "                                 threshold=None)),\n",
       "                ('classification',\n",
       "                 RandomForestRegressor(bootstrap=True, criterion='mse',\n",
       "                                       max_depth=10, max_features='auto',\n",
       "                                       max_leaf_nodes=None,\n",
       "                                       min_impurity_decrease=0.0,\n",
       "                                       min_impurity_split=None,\n",
       "                                       min_samples_leaf=1, min_samples_split=4,\n",
       "                                       min_weight_fraction_leaf=0.0,\n",
       "                                       n_estimators=10, n_jobs=None,\n",
       "                                       oob_score=False, random_state=None,\n",
       "                                       verbose=0, warm_start=False))],\n",
       "         verbose=False)"
      ]
     },
     "execution_count": 127,
     "metadata": {},
     "output_type": "execute_result"
    }
   ],
   "source": [
    "from sklearn.ensemble import ExtraTreesRegressor\n",
    "\n",
    "clf2 = Pipeline([\n",
    "   ('feature_selc', SelectFromModel(ExtraTreesRegressor(max_depth=4,min_samples_split=4))),\n",
    "  ('classification', RandomForestRegressor(max_depth=10,min_samples_split=4))\n",
    " ])\n",
    "\n",
    "clf2.fit(X_train,y_train)\n"
   ]
  },
  {
   "cell_type": "code",
   "execution_count": 54,
   "metadata": {
    "scrolled": false
   },
   "outputs": [
    {
     "name": "stderr",
     "output_type": "stream",
     "text": [
      "C:\\Users\\HP\\Miniconda3\\lib\\site-packages\\sklearn\\ensemble\\forest.py:245: FutureWarning: The default value of n_estimators will change from 10 in version 0.20 to 100 in 0.22.\n",
      "  \"10 in version 0.20 to 100 in 0.22.\", FutureWarning)\n"
     ]
    },
    {
     "data": {
      "text/plain": [
       "Pipeline(memory=None,\n",
       "         steps=[('classification',\n",
       "                 RandomForestRegressor(bootstrap=True, criterion='mse',\n",
       "                                       max_depth=None, max_features='auto',\n",
       "                                       max_leaf_nodes=None,\n",
       "                                       min_impurity_decrease=0.0,\n",
       "                                       min_impurity_split=None,\n",
       "                                       min_samples_leaf=1, min_samples_split=2,\n",
       "                                       min_weight_fraction_leaf=0.0,\n",
       "                                       n_estimators=10, n_jobs=None,\n",
       "                                       oob_score=False, random_state=None,\n",
       "                                       verbose=0, warm_start=False))],\n",
       "         verbose=False)"
      ]
     },
     "execution_count": 54,
     "metadata": {},
     "output_type": "execute_result"
    }
   ],
   "source": [
    "clf = Pipeline([\n",
    "  ('classification', RandomForestRegressor())\n",
    " ])\n",
    "\n",
    "#param_grid = [{       \n",
    "#    \"min_samples_split\": [2,4,6,9],  \n",
    "#    \"n_estimators\":[100,120,1000],\n",
    "#    \"max_depth\": [2, 4,6,8]   \n",
    "#}]\n",
    "#grid_search=GridSearchCV(clf,param_grid,cv=3)\n",
    "clf.fit(X_train,y_train)\n",
    "#grid_search.fit(X_train,y_train)"
   ]
  },
  {
   "cell_type": "code",
   "execution_count": 123,
   "metadata": {
    "scrolled": false
   },
   "outputs": [
    {
     "name": "stdout",
     "output_type": "stream",
     "text": [
      "43.203985319730066\n",
      "0.8541959545316192\n"
     ]
    }
   ],
   "source": [
    "predictions=clf2.predict(X_test)\n",
    "\n",
    "print(mean_squared_error(predictions,y_test))\n",
    "print(mean_absolute_error(predictions,y_test))"
   ]
  },
  {
   "cell_type": "code",
   "execution_count": 129,
   "metadata": {},
   "outputs": [
    {
     "data": {
      "text/plain": [
       "array([129.95689813, 129.93270439, 129.94344215, ..., 129.95689813,\n",
       "       129.94344215, 129.55928902])"
      ]
     },
     "execution_count": 129,
     "metadata": {},
     "output_type": "execute_result"
    },
    {
     "data": {
      "image/png": "[encoded data removed]",
      "text/plain": [
       "<Figure size 432x288 with 1 Axes>"
      ]
     },
     "metadata": {
      "needs_background": "light"
     },
     "output_type": "display_data"
    }
   ],
   "source": [
    "#Plotting the predictions and true values\n",
    "from matplotlib import pyplot as plt\n",
    "## The line / model\n",
    "plt.scatter(y_test, predictions)\n",
    "plt.xlabel(\"True Values\")\n",
    "\n",
    "plt.ylabel(\"Predictions\")\n",
    "predictions"
   ]
  },
  {
   "cell_type": "code",
   "execution_count": 56,
   "metadata": {
    "scrolled": true
   },
   "outputs": [
    {
     "data": {
      "text/plain": [
       "Text(0, 0.5, 'Predictions')"
      ]
     },
     "execution_count": 56,
     "metadata": {},
     "output_type": "execute_result"
    },
    {
     "data": {
      "image/png": "[encoded data removed]",
      "text/plain": [
       "<Figure size 432x288 with 1 Axes>"
      ]
     },
     "metadata": {
      "needs_background": "light"
     },
     "output_type": "display_data"
    }
   ],
   "source": [
    "#Plotting the predictions and true values\n",
    "from matplotlib import pyplot as plt\n",
    "## The line / model\n",
    "plt.scatter(y_test, predictions)\n",
    "plt.xlabel(\"True Values\")\n",
    "\n",
    "plt.ylabel(\"Predictions\")"
   ]
  },
  {
   "cell_type": "code",
   "execution_count": 29,
   "metadata": {
    "scrolled": true
   },
   "outputs": [
    {
     "name": "stdout",
     "output_type": "stream",
     "text": [
      "0.39671120555262374\n"
     ]
    }
   ],
   "source": [
    "from sklearn.metrics import r2_score\n",
    "print(r2_score(predictions,y_test))"
   ]
  },
  {
   "cell_type": "code",
   "execution_count": 31,
   "metadata": {},
   "outputs": [],
   "source": [
    "testing_data = pd.read_csv('TestingData.csv')"
   ]
  },
  {
   "cell_type": "code",
   "execution_count": 32,
   "metadata": {},
   "outputs": [
    {
     "data": {
      "text/html": [
       "<div>\n",
       "<style scoped>\n",
       "    .dataframe tbody tr th:only-of-type {\n",
       "        vertical-align: middle;\n",
       "    }\n",
       "\n",
       "    .dataframe tbody tr th {\n",
       "        vertical-align: top;\n",
       "    }\n",
       "\n",
       "    .dataframe thead th {\n",
       "        text-align: right;\n",
       "    }\n",
       "</style>\n",
       "<table border=\"1\" class=\"dataframe\">\n",
       "  <thead>\n",
       "    <tr style=\"text-align: right;\">\n",
       "      <th></th>\n",
       "      <th>date</th>\n",
       "      <th>serial_number</th>\n",
       "      <th>model</th>\n",
       "      <th>capacity_bytes</th>\n",
       "      <th>smart_1_normalized</th>\n",
       "      <th>smart_2_normalized</th>\n",
       "      <th>smart_3_normalized</th>\n",
       "      <th>smart_4_normalized</th>\n",
       "      <th>smart_5_normalized</th>\n",
       "      <th>smart_7_normalized</th>\n",
       "      <th>...</th>\n",
       "      <th>smart_225_normalized</th>\n",
       "      <th>smart_226_normalized</th>\n",
       "      <th>smart_240_normalized</th>\n",
       "      <th>smart_241_normalized</th>\n",
       "      <th>smart_242_normalized</th>\n",
       "      <th>smart_250_normalized</th>\n",
       "      <th>smart_251_normalized</th>\n",
       "      <th>smart_252_normalized</th>\n",
       "      <th>smart_254_normalized</th>\n",
       "      <th>smart_255_normalized</th>\n",
       "    </tr>\n",
       "  </thead>\n",
       "  <tbody>\n",
       "    <tr>\n",
       "      <th>0</th>\n",
       "      <td>2016-07-01</td>\n",
       "      <td>PL2331LAGSTGLJ</td>\n",
       "      <td>HGST HMS5C4040ALE640</td>\n",
       "      <td>4000787030016</td>\n",
       "      <td>91</td>\n",
       "      <td>132.0</td>\n",
       "      <td>100</td>\n",
       "      <td>100</td>\n",
       "      <td>100</td>\n",
       "      <td>100</td>\n",
       "      <td>...</td>\n",
       "      <td>NaN</td>\n",
       "      <td>NaN</td>\n",
       "      <td>NaN</td>\n",
       "      <td>NaN</td>\n",
       "      <td>NaN</td>\n",
       "      <td>NaN</td>\n",
       "      <td>NaN</td>\n",
       "      <td>NaN</td>\n",
       "      <td>NaN</td>\n",
       "      <td>NaN</td>\n",
       "    </tr>\n",
       "    <tr>\n",
       "      <th>1</th>\n",
       "      <td>2016-07-01</td>\n",
       "      <td>Z300YTX5</td>\n",
       "      <td>ST4000DM000</td>\n",
       "      <td>4000787030016</td>\n",
       "      <td>119</td>\n",
       "      <td>NaN</td>\n",
       "      <td>96</td>\n",
       "      <td>100</td>\n",
       "      <td>100</td>\n",
       "      <td>88</td>\n",
       "      <td>...</td>\n",
       "      <td>NaN</td>\n",
       "      <td>NaN</td>\n",
       "      <td>100.0</td>\n",
       "      <td>100.0</td>\n",
       "      <td>100.0</td>\n",
       "      <td>NaN</td>\n",
       "      <td>NaN</td>\n",
       "      <td>NaN</td>\n",
       "      <td>NaN</td>\n",
       "      <td>NaN</td>\n",
       "    </tr>\n",
       "    <tr>\n",
       "      <th>2</th>\n",
       "      <td>2016-07-01</td>\n",
       "      <td>Z304KA40</td>\n",
       "      <td>ST4000DM000</td>\n",
       "      <td>4000787030016</td>\n",
       "      <td>117</td>\n",
       "      <td>NaN</td>\n",
       "      <td>95</td>\n",
       "      <td>100</td>\n",
       "      <td>100</td>\n",
       "      <td>84</td>\n",
       "      <td>...</td>\n",
       "      <td>NaN</td>\n",
       "      <td>NaN</td>\n",
       "      <td>100.0</td>\n",
       "      <td>100.0</td>\n",
       "      <td>100.0</td>\n",
       "      <td>NaN</td>\n",
       "      <td>NaN</td>\n",
       "      <td>NaN</td>\n",
       "      <td>NaN</td>\n",
       "      <td>NaN</td>\n",
       "    </tr>\n",
       "    <tr>\n",
       "      <th>3</th>\n",
       "      <td>2016-07-01</td>\n",
       "      <td>Z300CMBJ</td>\n",
       "      <td>ST4000DM000</td>\n",
       "      <td>4000787030016</td>\n",
       "      <td>117</td>\n",
       "      <td>NaN</td>\n",
       "      <td>91</td>\n",
       "      <td>100</td>\n",
       "      <td>100</td>\n",
       "      <td>87</td>\n",
       "      <td>...</td>\n",
       "      <td>NaN</td>\n",
       "      <td>NaN</td>\n",
       "      <td>100.0</td>\n",
       "      <td>100.0</td>\n",
       "      <td>100.0</td>\n",
       "      <td>NaN</td>\n",
       "      <td>NaN</td>\n",
       "      <td>NaN</td>\n",
       "      <td>NaN</td>\n",
       "      <td>NaN</td>\n",
       "    </tr>\n",
       "    <tr>\n",
       "      <th>4</th>\n",
       "      <td>2016-07-01</td>\n",
       "      <td>Z304JQ9T</td>\n",
       "      <td>ST4000DM000</td>\n",
       "      <td>4000787030016</td>\n",
       "      <td>118</td>\n",
       "      <td>NaN</td>\n",
       "      <td>99</td>\n",
       "      <td>100</td>\n",
       "      <td>100</td>\n",
       "      <td>83</td>\n",
       "      <td>...</td>\n",
       "      <td>NaN</td>\n",
       "      <td>NaN</td>\n",
       "      <td>100.0</td>\n",
       "      <td>100.0</td>\n",
       "      <td>100.0</td>\n",
       "      <td>NaN</td>\n",
       "      <td>NaN</td>\n",
       "      <td>NaN</td>\n",
       "      <td>NaN</td>\n",
       "      <td>NaN</td>\n",
       "    </tr>\n",
       "  </tbody>\n",
       "</table>\n",
       "<p>5 rows × 49 columns</p>\n",
       "</div>"
      ],
      "text/plain": [
       "        date   serial_number                 model  capacity_bytes  \\\n",
       "0 2016-07-01  PL2331LAGSTGLJ  HGST HMS5C4040ALE640   4000787030016   \n",
       "1 2016-07-01        Z300YTX5           ST4000DM000   4000787030016   \n",
       "2 2016-07-01        Z304KA40           ST4000DM000   4000787030016   \n",
       "3 2016-07-01        Z300CMBJ           ST4000DM000   4000787030016   \n",
       "4 2016-07-01        Z304JQ9T           ST4000DM000   4000787030016   \n",
       "\n",
       "   smart_1_normalized  smart_2_normalized  smart_3_normalized  \\\n",
       "0                  91               132.0                 100   \n",
       "1                 119                 NaN                  96   \n",
       "2                 117                 NaN                  95   \n",
       "3                 117                 NaN                  91   \n",
       "4                 118                 NaN                  99   \n",
       "\n",
       "   smart_4_normalized  smart_5_normalized  smart_7_normalized  ...  \\\n",
       "0                 100                 100                 100  ...   \n",
       "1                 100                 100                  88  ...   \n",
       "2                 100                 100                  84  ...   \n",
       "3                 100                 100                  87  ...   \n",
       "4                 100                 100                  83  ...   \n",
       "\n",
       "   smart_225_normalized  smart_226_normalized  smart_240_normalized  \\\n",
       "0                   NaN                   NaN                   NaN   \n",
       "1                   NaN                   NaN                 100.0   \n",
       "2                   NaN                   NaN                 100.0   \n",
       "3                   NaN                   NaN                 100.0   \n",
       "4                   NaN                   NaN                 100.0   \n",
       "\n",
       "   smart_241_normalized  smart_242_normalized  smart_250_normalized  \\\n",
       "0                   NaN                   NaN                   NaN   \n",
       "1                 100.0                 100.0                   NaN   \n",
       "2                 100.0                 100.0                   NaN   \n",
       "3                 100.0                 100.0                   NaN   \n",
       "4                 100.0                 100.0                   NaN   \n",
       "\n",
       "   smart_251_normalized  smart_252_normalized  smart_254_normalized  \\\n",
       "0                   NaN                   NaN                   NaN   \n",
       "1                   NaN                   NaN                   NaN   \n",
       "2                   NaN                   NaN                   NaN   \n",
       "3                   NaN                   NaN                   NaN   \n",
       "4                   NaN                   NaN                   NaN   \n",
       "\n",
       "   smart_255_normalized  \n",
       "0                   NaN  \n",
       "1                   NaN  \n",
       "2                   NaN  \n",
       "3                   NaN  \n",
       "4                   NaN  \n",
       "\n",
       "[5 rows x 49 columns]"
      ]
     },
     "execution_count": 32,
     "metadata": {},
     "output_type": "execute_result"
    }
   ],
   "source": [
    "testing_data = testing_data.drop(testing_data.filter(regex='raw').columns,axis=1)\n",
    "\n",
    "testing_data[\"date\"] = pd.to_datetime(testing_data[\"date\"])\n",
    "testing_data.head()"
   ]
  },
  {
   "cell_type": "code",
   "execution_count": 33,
   "metadata": {},
   "outputs": [
    {
     "data": {
      "text/plain": [
       "(47455, 47)"
      ]
     },
     "execution_count": 33,
     "metadata": {},
     "output_type": "execute_result"
    }
   ],
   "source": [
    "testing_data.drop(columns=[\"smart_254_normalized\",\"smart_255_normalized\"],axis=1,inplace =True)\n",
    "testing_data.shape"
   ]
  },
  {
   "cell_type": "code",
   "execution_count": 34,
   "metadata": {},
   "outputs": [],
   "source": [
    "for column in testing_data:\n",
    "     if(testing_data[column].isnull().any()):\n",
    "        testing_data[column].fillna(0,inplace=True)\n",
    "        \n",
    "for column in testing_data:\n",
    "     if(testing_data.isnull().sum().any()):\n",
    "        testing_data[column].fillna(0,inplace=True)"
   ]
  },
  {
   "cell_type": "code",
   "execution_count": 35,
   "metadata": {},
   "outputs": [
    {
     "data": {
      "text/plain": [
       "(47455, 47)"
      ]
     },
     "execution_count": 35,
     "metadata": {},
     "output_type": "execute_result"
    }
   ],
   "source": [
    "testing_data.shape"
   ]
  },
  {
   "cell_type": "code",
   "execution_count": 36,
   "metadata": {},
   "outputs": [],
   "source": [
    "testing_data=testing_data.drop([\"serial_number\",\"date\",\"capacity_bytes\",\"model\"],axis=1)\n",
    "\n"
   ]
  },
  {
   "cell_type": "code",
   "execution_count": 37,
   "metadata": {},
   "outputs": [],
   "source": [
    "x=testing_data.values\n",
    "scaler = preprocessing.MinMaxScaler()\n",
    "scaled_data=scaler.fit_transform(x)\n",
    "testing_data=pd.DataFrame(scaled_data)"
   ]
  },
  {
   "cell_type": "code",
   "execution_count": 38,
   "metadata": {},
   "outputs": [
    {
     "data": {
      "text/html": [
       "<div>\n",
       "<style scoped>\n",
       "    .dataframe tbody tr th:only-of-type {\n",
       "        vertical-align: middle;\n",
       "    }\n",
       "\n",
       "    .dataframe tbody tr th {\n",
       "        vertical-align: top;\n",
       "    }\n",
       "\n",
       "    .dataframe thead th {\n",
       "        text-align: right;\n",
       "    }\n",
       "</style>\n",
       "<table border=\"1\" class=\"dataframe\">\n",
       "  <thead>\n",
       "    <tr style=\"text-align: right;\">\n",
       "      <th></th>\n",
       "      <th>0</th>\n",
       "      <th>1</th>\n",
       "      <th>2</th>\n",
       "      <th>3</th>\n",
       "      <th>4</th>\n",
       "      <th>5</th>\n",
       "      <th>6</th>\n",
       "      <th>7</th>\n",
       "      <th>8</th>\n",
       "      <th>9</th>\n",
       "      <th>...</th>\n",
       "      <th>33</th>\n",
       "      <th>34</th>\n",
       "      <th>35</th>\n",
       "      <th>36</th>\n",
       "      <th>37</th>\n",
       "      <th>38</th>\n",
       "      <th>39</th>\n",
       "      <th>40</th>\n",
       "      <th>41</th>\n",
       "      <th>42</th>\n",
       "    </tr>\n",
       "  </thead>\n",
       "  <tbody>\n",
       "    <tr>\n",
       "      <th>0</th>\n",
       "      <td>0.292208</td>\n",
       "      <td>0.52381</td>\n",
       "      <td>0.123967</td>\n",
       "      <td>1.0</td>\n",
       "      <td>0.394422</td>\n",
       "      <td>0.327434</td>\n",
       "      <td>0.43254</td>\n",
       "      <td>0.969231</td>\n",
       "      <td>0.061728</td>\n",
       "      <td>0.0</td>\n",
       "      <td>...</td>\n",
       "      <td>0.0</td>\n",
       "      <td>0.0</td>\n",
       "      <td>0.0</td>\n",
       "      <td>0.0</td>\n",
       "      <td>0.0</td>\n",
       "      <td>0.0</td>\n",
       "      <td>0.0</td>\n",
       "      <td>0.0</td>\n",
       "      <td>0.0</td>\n",
       "      <td>0.0</td>\n",
       "    </tr>\n",
       "    <tr>\n",
       "      <th>1</th>\n",
       "      <td>0.474026</td>\n",
       "      <td>0.00000</td>\n",
       "      <td>0.090909</td>\n",
       "      <td>1.0</td>\n",
       "      <td>0.394422</td>\n",
       "      <td>0.274336</td>\n",
       "      <td>0.00000</td>\n",
       "      <td>0.753846</td>\n",
       "      <td>0.061728</td>\n",
       "      <td>0.0</td>\n",
       "      <td>...</td>\n",
       "      <td>0.0</td>\n",
       "      <td>0.0</td>\n",
       "      <td>0.0</td>\n",
       "      <td>0.0</td>\n",
       "      <td>1.0</td>\n",
       "      <td>1.0</td>\n",
       "      <td>1.0</td>\n",
       "      <td>0.0</td>\n",
       "      <td>0.0</td>\n",
       "      <td>0.0</td>\n",
       "    </tr>\n",
       "    <tr>\n",
       "      <th>2</th>\n",
       "      <td>0.461039</td>\n",
       "      <td>0.00000</td>\n",
       "      <td>0.082645</td>\n",
       "      <td>1.0</td>\n",
       "      <td>0.394422</td>\n",
       "      <td>0.256637</td>\n",
       "      <td>0.00000</td>\n",
       "      <td>0.892308</td>\n",
       "      <td>0.061728</td>\n",
       "      <td>0.0</td>\n",
       "      <td>...</td>\n",
       "      <td>0.0</td>\n",
       "      <td>0.0</td>\n",
       "      <td>0.0</td>\n",
       "      <td>0.0</td>\n",
       "      <td>1.0</td>\n",
       "      <td>1.0</td>\n",
       "      <td>1.0</td>\n",
       "      <td>0.0</td>\n",
       "      <td>0.0</td>\n",
       "      <td>0.0</td>\n",
       "    </tr>\n",
       "    <tr>\n",
       "      <th>3</th>\n",
       "      <td>0.461039</td>\n",
       "      <td>0.00000</td>\n",
       "      <td>0.049587</td>\n",
       "      <td>1.0</td>\n",
       "      <td>0.394422</td>\n",
       "      <td>0.269912</td>\n",
       "      <td>0.00000</td>\n",
       "      <td>0.569231</td>\n",
       "      <td>0.061728</td>\n",
       "      <td>0.0</td>\n",
       "      <td>...</td>\n",
       "      <td>0.0</td>\n",
       "      <td>0.0</td>\n",
       "      <td>0.0</td>\n",
       "      <td>0.0</td>\n",
       "      <td>1.0</td>\n",
       "      <td>1.0</td>\n",
       "      <td>1.0</td>\n",
       "      <td>0.0</td>\n",
       "      <td>0.0</td>\n",
       "      <td>0.0</td>\n",
       "    </tr>\n",
       "    <tr>\n",
       "      <th>4</th>\n",
       "      <td>0.467532</td>\n",
       "      <td>0.00000</td>\n",
       "      <td>0.115702</td>\n",
       "      <td>1.0</td>\n",
       "      <td>0.394422</td>\n",
       "      <td>0.252212</td>\n",
       "      <td>0.00000</td>\n",
       "      <td>0.907692</td>\n",
       "      <td>0.061728</td>\n",
       "      <td>0.0</td>\n",
       "      <td>...</td>\n",
       "      <td>0.0</td>\n",
       "      <td>0.0</td>\n",
       "      <td>0.0</td>\n",
       "      <td>0.0</td>\n",
       "      <td>1.0</td>\n",
       "      <td>1.0</td>\n",
       "      <td>1.0</td>\n",
       "      <td>0.0</td>\n",
       "      <td>0.0</td>\n",
       "      <td>0.0</td>\n",
       "    </tr>\n",
       "  </tbody>\n",
       "</table>\n",
       "<p>5 rows × 43 columns</p>\n",
       "</div>"
      ],
      "text/plain": [
       "         0        1         2    3         4         5        6         7   \\\n",
       "0  0.292208  0.52381  0.123967  1.0  0.394422  0.327434  0.43254  0.969231   \n",
       "1  0.474026  0.00000  0.090909  1.0  0.394422  0.274336  0.00000  0.753846   \n",
       "2  0.461039  0.00000  0.082645  1.0  0.394422  0.256637  0.00000  0.892308   \n",
       "3  0.461039  0.00000  0.049587  1.0  0.394422  0.269912  0.00000  0.569231   \n",
       "4  0.467532  0.00000  0.115702  1.0  0.394422  0.252212  0.00000  0.907692   \n",
       "\n",
       "         8    9   ...   33   34   35   36   37   38   39   40   41   42  \n",
       "0  0.061728  0.0  ...  0.0  0.0  0.0  0.0  0.0  0.0  0.0  0.0  0.0  0.0  \n",
       "1  0.061728  0.0  ...  0.0  0.0  0.0  0.0  1.0  1.0  1.0  0.0  0.0  0.0  \n",
       "2  0.061728  0.0  ...  0.0  0.0  0.0  0.0  1.0  1.0  1.0  0.0  0.0  0.0  \n",
       "3  0.061728  0.0  ...  0.0  0.0  0.0  0.0  1.0  1.0  1.0  0.0  0.0  0.0  \n",
       "4  0.061728  0.0  ...  0.0  0.0  0.0  0.0  1.0  1.0  1.0  0.0  0.0  0.0  \n",
       "\n",
       "[5 rows x 43 columns]"
      ]
     },
     "execution_count": 38,
     "metadata": {},
     "output_type": "execute_result"
    }
   ],
   "source": [
    "testing_data.head()"
   ]
  },
  {
   "cell_type": "code",
   "execution_count": 105,
   "metadata": {},
   "outputs": [
    {
     "data": {
      "text/plain": [
       "array([88.675, 88.675, 88.675, ..., 88.675, 88.675, 88.675])"
      ]
     },
     "execution_count": 105,
     "metadata": {},
     "output_type": "execute_result"
    }
   ],
   "source": [
    "predictions2=clf2.predict(testing_data)\n",
    "predictions2"
   ]
  },
  {
   "cell_type": "code",
   "execution_count": 40,
   "metadata": {},
   "outputs": [],
   "source": [
    "testing = pd.read_csv('TestingData.csv')"
   ]
  },
  {
   "cell_type": "code",
   "execution_count": 41,
   "metadata": {},
   "outputs": [],
   "source": [
    "testing = testing.drop(testing.filter(regex='smart').columns,axis=1)\n",
    "testing=testing.drop([\"capacity_bytes\",\"model\"],axis=1)"
   ]
  },
  {
   "cell_type": "code",
   "execution_count": 44,
   "metadata": {},
   "outputs": [
    {
     "data": {
      "text/html": [
       "<div>\n",
       "<style scoped>\n",
       "    .dataframe tbody tr th:only-of-type {\n",
       "        vertical-align: middle;\n",
       "    }\n",
       "\n",
       "    .dataframe tbody tr th {\n",
       "        vertical-align: top;\n",
       "    }\n",
       "\n",
       "    .dataframe thead th {\n",
       "        text-align: right;\n",
       "    }\n",
       "</style>\n",
       "<table border=\"1\" class=\"dataframe\">\n",
       "  <thead>\n",
       "    <tr style=\"text-align: right;\">\n",
       "      <th></th>\n",
       "      <th>date</th>\n",
       "      <th>serial_number</th>\n",
       "      <th>remaining_days</th>\n",
       "    </tr>\n",
       "  </thead>\n",
       "  <tbody>\n",
       "    <tr>\n",
       "      <th>0</th>\n",
       "      <td>2016-07-01</td>\n",
       "      <td>PL2331LAGSTGLJ</td>\n",
       "      <td>6.5</td>\n",
       "    </tr>\n",
       "    <tr>\n",
       "      <th>1</th>\n",
       "      <td>2016-07-01</td>\n",
       "      <td>Z300YTX5</td>\n",
       "      <td>6.5</td>\n",
       "    </tr>\n",
       "    <tr>\n",
       "      <th>2</th>\n",
       "      <td>2016-07-01</td>\n",
       "      <td>Z304KA40</td>\n",
       "      <td>6.5</td>\n",
       "    </tr>\n",
       "    <tr>\n",
       "      <th>3</th>\n",
       "      <td>2016-07-01</td>\n",
       "      <td>Z300CMBJ</td>\n",
       "      <td>6.5</td>\n",
       "    </tr>\n",
       "    <tr>\n",
       "      <th>4</th>\n",
       "      <td>2016-07-01</td>\n",
       "      <td>Z304JQ9T</td>\n",
       "      <td>6.5</td>\n",
       "    </tr>\n",
       "  </tbody>\n",
       "</table>\n",
       "</div>"
      ],
      "text/plain": [
       "         date   serial_number  remaining_days\n",
       "0  2016-07-01  PL2331LAGSTGLJ             6.5\n",
       "1  2016-07-01        Z300YTX5             6.5\n",
       "2  2016-07-01        Z304KA40             6.5\n",
       "3  2016-07-01        Z300CMBJ             6.5\n",
       "4  2016-07-01        Z304JQ9T             6.5"
      ]
     },
     "execution_count": 44,
     "metadata": {},
     "output_type": "execute_result"
    }
   ],
   "source": [
    "testing.head()"
   ]
  },
  {
   "cell_type": "code",
   "execution_count": 43,
   "metadata": {},
   "outputs": [],
   "source": [
    "testing[\"remaining_days\"]=predictions2"
   ]
  },
  {
   "cell_type": "code",
   "execution_count": 45,
   "metadata": {},
   "outputs": [
    {
     "name": "stdout",
     "output_type": "stream",
     "text": [
      "done\n"
     ]
    }
   ],
   "source": [
    "testing.to_csv(\"res.csv\",index=False)\n",
    "print(\"done\")"
   ]
  },
  {
   "cell_type": "code",
   "execution_count": null,
   "metadata": {},
   "outputs": [],
   "source": []
  }
 ],
 "metadata": {
  "kernelspec": {
   "display_name": "Python 3",
   "language": "python",
   "name": "python3"
  },
  "language_info": {
   "codemirror_mode": {
    "name": "ipython",
    "version": 3
   },
   "file_extension": ".py",
   "mimetype": "text/x-python",
   "name": "python",
   "nbconvert_exporter": "python",
   "pygments_lexer": "ipython3",
   "version": "3.7.0"
  }
 },
 "nbformat": 4,
 "nbformat_minor": 1
}
